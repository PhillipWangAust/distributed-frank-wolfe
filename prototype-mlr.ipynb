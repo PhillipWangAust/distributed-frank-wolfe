{
 "cells": [
  {
   "cell_type": "code",
   "execution_count": 1,
   "metadata": {
    "collapsed": true
   },
   "outputs": [],
   "source": [
    "#!/usr/bin/env python3\n",
    "import numpy as np\n",
    "from utils import *"
   ]
  },
  {
   "cell_type": "code",
   "execution_count": 2,
   "metadata": {
    "collapsed": false
   },
   "outputs": [],
   "source": [
    "def class2score(y, k = None):\n",
    "    if k is None:\n",
    "        k = max(y) + 1\n",
    "    Y = np.zeros((len(y), k), dtype = np.int)\n",
    "    for i, s in enumerate(y):\n",
    "        Y[i, s] = 1\n",
    "    return Y\n",
    "\n",
    "def score2class(Y):\n",
    "    y = Y.argmax(axis=1)\n",
    "    return y\n",
    "\n",
    "def predict(X, W, hit = None):\n",
    "    XW = todense(dot(X, W))\n",
    "    if hit is None:\n",
    "        return score2class(XW)\n",
    "    else:\n",
    "        return np.argpartition(XW, -hit)[:, -hit:]\n",
    "\n",
    "def generate(n = 16, m = 5, p = 4, r = 3, nn = 1, seed = 0):\n",
    "    np.random.seed(seed)\n",
    "    X = np.random.randn(n, p)\n",
    "    W = lowrank(p, m - 1, r, nn, addzero = True)\n",
    "    y = predict(X, W)\n",
    "    return (X, y), W\n",
    "\n",
    "#def score(X, W):\n",
    "#    s = todense(dot(X, W))\n",
    "#    return np.exp(s - np.max(s))\n",
    "\n",
    "#def proba(X, W):\n",
    "#    Z = score(X, W)\n",
    "#    return Z / np.reshape(np.sum(Z, axis=1), (-1, 1))\n",
    "\n",
    "def loss(X, y, W = None, k = None):\n",
    "    if W is None:\n",
    "        return X.shape[0] * np.log(k)\n",
    "    y = y.squeeze()\n",
    "    if y.ndim > 1:\n",
    "        y = score2class(y)\n",
    "    s = todense(dot(X, W)).T\n",
    "    s = np.exp(s - s[y, range(s.shape[1])])\n",
    "    return sum(np.log(np.sum(s, axis=0)))\n",
    "    #return sum(np.log(np.sum(score(X,W), axis=1))) - np.sum(W.T[y] * X)\n",
    "\n",
    "def miss(X, y, W = None, k = None, hit = None):\n",
    "    if W is None:\n",
    "        return X.shape[0] * (1 - float(1 if hit is None else hit) / k)\n",
    "    y = y.squeeze()\n",
    "    if y.ndim > 1:\n",
    "        y = score2class(y)\n",
    "    y2 = predict(X, W, hit)\n",
    "    if hit is None:\n",
    "        return sum(y2 != y)\n",
    "    else:\n",
    "        return sum([i not in j for i, j in zip(y, y2)])\n",
    "\n",
    "#def gradient(X, Y, W):\n",
    "#    return np.dot(X.T, proba(X, W) - Y)\n",
    "\n",
    "def score2proba(S):\n",
    "    S = np.exp(S.T - np.max(S, axis=1))\n",
    "    S = S / np.sum(S, axis=0)   \n",
    "    return S.T\n",
    "    \n",
    "def stats(data, W = LRmatrix([], [], []), k = None, **kwargs):\n",
    "    X, y = data\n",
    "    y = y.squeeze()\n",
    "    if len(W) > 0:\n",
    "        k = W.n\n",
    "    XW = dot(X, W)\n",
    "    if isinstance(XW, LRmatrix):\n",
    "        XW = XW.todense((X.shape[0], k))\n",
    "    S = score2proba(XW)\n",
    "    Y = class2score(y, k)\n",
    "    XY = np.dot(X.T, Y)\n",
    "    grad = np.dot(X.T, S) - XY\n",
    "    grad[:, 0] = 0\n",
    "    return {'X':X, 'XW':XW, 'XY':XY, 'grad':grad}\n",
    "\n",
    "def linesearch():\n",
    "    error\n",
    "\n",
    "def update(s, D, a):\n",
    "    s['XW'] = dot(s['X'], a * D) + (1 - a) * s['XW']\n",
    "    s['grad'] = np.dot(s['X'].T, score2proba(s['XW'])) - s['XY']    # costly\n",
    "    s['grad'][:, 0] = 0\n",
    "    return s"
   ]
  },
  {
   "cell_type": "code",
   "execution_count": 3,
   "metadata": {
    "collapsed": false
   },
   "outputs": [
    {
     "data": {
      "text/plain": [
       "([array([-0.581441  , -0.73861028, -0.31315418, -0.13533544]),\n",
       "  array([ 0.47915974, -0.64154205,  0.59551882,  0.06470756]),\n",
       "  array([ 0.25929548, -0.15752491, -0.46848788,  0.82974144])],\n",
       " array([ 0.54480359,  0.43718772,  0.01800869]),\n",
       " [array([ 0.        , -0.69021569, -0.30262265, -0.28393368, -0.59279296]),\n",
       "  array([ 0.        ,  0.24791579, -0.71302353,  0.61766667, -0.22050643]),\n",
       "  array([ 0.        ,  0.6036152 , -0.33205685, -0.69683039, -0.19953533])])"
      ]
     },
     "execution_count": 3,
     "metadata": {},
     "output_type": "execute_result"
    }
   ],
   "source": [
    "foo = generate()\n",
    "foo[1].u, foo[1].s, foo[1].v"
   ]
  },
  {
   "cell_type": "code",
   "execution_count": 4,
   "metadata": {
    "collapsed": false
   },
   "outputs": [
    {
     "data": {
      "text/plain": [
       "(array([[ 0.581441  ,  0.47915974,  0.25929548, -0.60423352],\n",
       "        [ 0.73861028, -0.64154205, -0.15752491,  0.13440445],\n",
       "        [ 0.31315418,  0.59551882, -0.46848788,  0.57254773],\n",
       "        [ 0.13533544,  0.06470756,  0.82974144,  0.53761175]]),\n",
       " array([  5.44803593e-01,   4.37187717e-01,   1.80086900e-02,\n",
       "          9.63362940e-18]),\n",
       " array([[  0.00000000e+00,   6.90215689e-01,   3.02622654e-01,\n",
       "           2.83933677e-01,   5.92792965e-01],\n",
       "        [  2.22044605e-16,   2.47915786e-01,  -7.13023530e-01,\n",
       "           6.17666675e-01,  -2.20506433e-01],\n",
       "        [ -3.05311332e-16,   6.03615199e-01,  -3.32056851e-01,\n",
       "          -6.96830389e-01,  -1.99535331e-01],\n",
       "        [  8.19882270e-01,  -1.79037639e-01,  -3.08187851e-01,\n",
       "          -1.30929673e-01,   4.28504674e-01],\n",
       "        [ -5.72532150e-01,  -2.56386975e-01,  -4.41333741e-01,\n",
       "          -1.87495003e-01,   6.13630842e-01]]))"
      ]
     },
     "execution_count": 4,
     "metadata": {},
     "output_type": "execute_result"
    }
   ],
   "source": [
    "np.linalg.svd(foo[1].todense())"
   ]
  },
  {
   "cell_type": "code",
   "execution_count": 5,
   "metadata": {
    "collapsed": false
   },
   "outputs": [
    {
     "name": "stdout",
     "output_type": "stream",
     "text": [
      "Test: mlr.py...OK\n"
     ]
    }
   ],
   "source": [
    "    # class2score\n",
    "    assert np.sum(class2score([1, 0, 3, 2], 5)) == 4\n",
    "    assert class2score([1, 0, 3, 2], 5).shape == (4, 5)\n",
    "    assert class2score([2, 3, 4]).shape == (3, 5)\n",
    "    assert np.sum(class2score([2, 3, 4])) == 3\n",
    "    \n",
    "    # score2class\n",
    "    np.random.seed(0)\n",
    "    assert sum(score2class(np.random.rand(9, 3))) == 12\n",
    "    \n",
    "    # predict\n",
    "    X = np.array([[1, 2], [3, 4]], np.float_)\n",
    "    W = LRmatrix([2], [np.array([1, 2])], [np.array([1, 2])])\n",
    "    assert sum(predict(X, W)) == 2\n",
    "    assert predict(X, W, 2).shape == (2, 2)\n",
    "\n",
    "    # generate\n",
    "    param = {'n':16, 'm':5, 'p':4, 'r':3, 'nn':1, 'seed':1}\n",
    "    data, W = generate(**param)\n",
    "    assert np.isclose(prod(data[0]), 1.576354e-17)\n",
    "    \n",
    "    # loss\n",
    "    assert np.isclose(loss(*data, k = 5), 25.751)\n",
    "    assert np.isclose(loss(*data, W), 22.18814937)\n",
    "    \n",
    "    # miss\n",
    "    assert np.isclose(miss(*data, k = 5), 12.8)\n",
    "    assert np.isclose(miss(*data, k = 5, hit = 2), 48./5)\n",
    "    assert miss(*data, W) == 0\n",
    "    np.random.seed(0)\n",
    "    assert miss(*data, np.random.randn(4, 5), hit = 3) == 3\n",
    "    \n",
    "    # score2proba\n",
    "    A = np.array([[0, np.log(3)], [np.log(4), 0]])\n",
    "    assert np.isclose(prod(score2proba(A)), 0.03)\n",
    "    \n",
    "    # stats\n",
    "    s = stats(data, W)\n",
    "    s = stats(data, k = 5)\n",
    "    \n",
    "    # update\n",
    "    assert np.isclose(prod(update(s, W, 0.5)['grad'][:, 1:]), 2.89565862)\n",
    "\n",
    "    print('Test: mlr.py...OK')    "
   ]
  },
  {
   "cell_type": "code",
   "execution_count": null,
   "metadata": {
    "collapsed": true
   },
   "outputs": [],
   "source": []
  }
 ],
 "metadata": {
  "kernelspec": {
   "display_name": "Python 3",
   "language": "python",
   "name": "python3"
  },
  "language_info": {
   "codemirror_mode": {
    "name": "ipython",
    "version": 3
   },
   "file_extension": ".py",
   "mimetype": "text/x-python",
   "name": "python",
   "nbconvert_exporter": "python",
   "pygments_lexer": "ipython3",
   "version": "3.5.2+"
  }
 },
 "nbformat": 4,
 "nbformat_minor": 0
}

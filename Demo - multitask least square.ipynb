{
 "cells": [
  {
   "cell_type": "code",
   "execution_count": 1,
   "metadata": {
    "collapsed": false
   },
   "outputs": [],
   "source": [
    "import numpy as np\n",
    "import matplotlib.pyplot as plt\n",
    "%matplotlib inline\n",
    "from utils import *\n",
    "from frontend import solve, evaluate\n",
    "import mls as md\n",
    "import fw"
   ]
  },
  {
   "cell_type": "markdown",
   "metadata": {},
   "source": [
    "## Warehouse"
   ]
  },
  {
   "cell_type": "markdown",
   "metadata": {},
   "source": [
    "We first generate some (artificial) data records and distribute them as an RDD. If you have already a correctly prepared RDD, then skip this step."
   ]
  },
  {
   "cell_type": "code",
   "execution_count": 2,
   "metadata": {
    "collapsed": true
   },
   "outputs": [],
   "source": [
    "# X: n*p  W: p*m  Y: n*m\n",
    "# =======================\n",
    "\n",
    "# parameters\n",
    "metadata = {'n':1000, 'm':100, 'p':100, 'r':10, 'nn':1, 'seed':0}\n",
    "partition = 8  # >= number of cores\n",
    "\n",
    "# generate data\n",
    "data, W = md.generate(**metadata)\n",
    "\n",
    "# prepare data\n",
    "points = mat2point(*data)\n",
    "dataRDD = sc.parallelize(points, partition)"
   ]
  },
  {
   "cell_type": "markdown",
   "metadata": {},
   "source": [
    "## Optimization"
   ]
  },
  {
   "cell_type": "markdown",
   "metadata": {},
   "source": [
    "We use the `solve` function from the `frontend` module to solve the minimization problem. It returns a Frank-Wolfe solution path, which is simply the set of singular vectors and step sizes it chooses during the optimization."
   ]
  },
  {
   "cell_type": "markdown",
   "metadata": {},
   "source": [
    "The following uses DFW-Trace-log as linear optimization oracle and the line search size."
   ]
  },
  {
   "cell_type": "code",
   "execution_count": 3,
   "metadata": {
    "collapsed": true
   },
   "outputs": [],
   "source": [
    "# parameter\n",
    "nn = 1      # trace norm constraint\n",
    "T = 20      # Epochs\n",
    "lmo = lambda rdd, **kwargs: fw.poweriter(rdd, lambda t: fw.loground(t, c=1), 'random', **kwargs)  # powlog\n",
    "step = fw.linesearch    # use line search step size"
   ]
  },
  {
   "cell_type": "code",
   "execution_count": 4,
   "metadata": {
    "collapsed": false
   },
   "outputs": [],
   "source": [
    "# Feed the RDD (of records) and other information to `solve`\n",
    "path = solve(dataRDD, metadata, md, nn, T, lmo, step)"
   ]
  },
  {
   "cell_type": "markdown",
   "metadata": {},
   "source": [
    "## Evaluation"
   ]
  },
  {
   "cell_type": "markdown",
   "metadata": {},
   "source": [
    "We use the `evaluate` function from the `frontend` module to evalute the objective function, the estimation error and/or the missclassification error. See its implementation to get a quick idea of obtaining the FW solution from its path."
   ]
  },
  {
   "cell_type": "code",
   "execution_count": 5,
   "metadata": {
    "collapsed": false
   },
   "outputs": [],
   "source": [
    "# Evaluate the objective function value and the estimation error\n",
    "loss, eerr, _ = evaluate(dataRDD, path, metadata, md, W)"
   ]
  },
  {
   "cell_type": "code",
   "execution_count": 6,
   "metadata": {
    "collapsed": false
   },
   "outputs": [
    {
     "data": {
      "text/plain": [
       "<matplotlib.text.Text at 0x7f182f72a978>"
      ]
     },
     "execution_count": 6,
     "metadata": {},
     "output_type": "execute_result"
    },
    {
     "data": {
      "image/png": "[encoded data removed]",
      "text/plain": [
       "<matplotlib.figure.Figure at 0x7f183809ae10>"
      ]
     },
     "metadata": {},
     "output_type": "display_data"
    }
   ],
   "source": [
    "plt.figure(figsize=(9, 7))\n",
    "plt.subplot(221)\n",
    "plt.plot(loss)\n",
    "plt.title('Loss vs Epoch')\n",
    "plt.subplot(222)\n",
    "plt.plot(path.timer, loss)\n",
    "plt.title('Loss vs Time')\n",
    "plt.subplot(223)\n",
    "plt.plot(eerr)\n",
    "plt.title('Estimation error vs Epoch')\n",
    "plt.subplot(224)\n",
    "plt.plot(path.timer, eerr)\n",
    "plt.title('Estimation error vs Time')"
   ]
  },
  {
   "cell_type": "markdown",
   "metadata": {},
   "source": [
    "The values decrease nicely."
   ]
  }
 ],
 "metadata": {
  "kernelspec": {
   "display_name": "anaconda",
   "language": "python",
   "name": "anaconda"
  },
  "language_info": {
   "codemirror_mode": {
    "name": "ipython",
    "version": 3
   },
   "file_extension": ".py",
   "mimetype": "text/x-python",
   "name": "python",
   "nbconvert_exporter": "python",
   "pygments_lexer": "ipython3",
   "version": "3.5.2"
  }
 },
 "nbformat": 4,
 "nbformat_minor": 0
}

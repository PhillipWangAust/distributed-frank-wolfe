{
 "cells": [
  {
   "cell_type": "code",
   "execution_count": 1,
   "metadata": {
    "collapsed": true
   },
   "outputs": [],
   "source": [
    "import numpy as np\n",
    "from time import time\n",
    "from utils import *\n",
    "import mlr as md\n",
    "import fw"
   ]
  },
  {
   "cell_type": "code",
   "execution_count": 3,
   "metadata": {
    "collapsed": false
   },
   "outputs": [],
   "source": [
    "# X: n*p  W: p*m  Y: n*m\n",
    "# =======================\n",
    "\n",
    "# default parameters\n",
    "param = {'n':200, 'm':10, 'p':100, 'r':5, 'nn':1, 'seed':0}\n",
    "\n",
    "# generate data\n",
    "data, W = md.generate(**param)\n",
    "X1 = data[0][0:100]\n",
    "X2 = data[0][100:200]\n",
    "y1 = data[1][0:100]\n",
    "y2 = data[1][100:200]\n",
    "\n",
    "# prepare data\n",
    "points = mat2point(X1, y1)\n",
    "dataRDD = sc.parallelize(points, 2).mapPartitions(point2mat)"
   ]
  },
  {
   "cell_type": "code",
   "execution_count": 4,
   "metadata": {
    "collapsed": false
   },
   "outputs": [],
   "source": [
    "# parameter\n",
    "T = 2\n",
    "lmo = fw.centralize\n",
    "step = fw.naivestep\n",
    "nn = 10\n",
    "# init\n",
    "U = []\n",
    "V = []\n",
    "A = np.array([])\n",
    "timer = np.zeros(T)\n",
    "statRDD = dataRDD.map(lambda z: md.stats(z, k = param['m'])).setName(\"initial\").persist()\n",
    "# iter\n",
    "for t in range(T):\n",
    "    u, v = fw.regularize(*lmo(statRDD), nn)\n",
    "    a = step(rdd = statRDD, u = u, v = v, t = t, ls = md.linesearch)\n",
    "    timer[t] = time()\n",
    "    statRDD = fw.update(statRDD, u, v, a, f = md.update)\n",
    "    statRDD.setName(\"turn\" + str(t)).persist()\n",
    "    U.append(u)\n",
    "    V.append(v)\n",
    "    A = np.append(A, a)\n"
   ]
  },
  {
   "cell_type": "code",
   "execution_count": 5,
   "metadata": {
    "collapsed": true
   },
   "outputs": [],
   "source": [
    "emprisk = [md.loss(X1, y1, k = param['m'])]\n",
    "eva = [md.miss(X2, y2, k = param['m'])]\n",
    "\n",
    "\n",
    "W0 = LRmatrix([], [], [])\n",
    "for u, v, a in zip(U, V, A):\n",
    "    W0 = LRmatrix([a], [u], [v]) + (1 - a) * W0\n",
    "    emprisk.append(md.loss(X1, y1, W0))\n",
    "    eva.append(md.miss(X2, y2, W0))\n",
    "emprisk = [x / emprisk[0] for x in emprisk]\n",
    "#eva = [x / eva[0] for x in eva]"
   ]
  },
  {
   "cell_type": "code",
   "execution_count": 10,
   "metadata": {
    "collapsed": false
   },
   "outputs": [],
   "source": [
    "assert np.isclose(prod(emprisk + eva), 581822.96)"
   ]
  }
 ],
 "metadata": {
  "kernelspec": {
   "display_name": "Python 3",
   "language": "python",
   "name": "python3"
  },
  "language_info": {
   "codemirror_mode": {
    "name": "ipython",
    "version": 3
   },
   "file_extension": ".py",
   "mimetype": "text/x-python",
   "name": "python",
   "nbconvert_exporter": "python",
   "pygments_lexer": "ipython3",
   "version": "3.5.1"
  }
 },
 "nbformat": 4,
 "nbformat_minor": 0
}

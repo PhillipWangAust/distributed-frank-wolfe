{
 "cells": [
  {
   "cell_type": "code",
   "execution_count": 1,
   "metadata": {
    "collapsed": false
   },
   "outputs": [],
   "source": [
    "from imp import reload\n",
    "import utils as ul\n",
    "from mls import Model as md\n",
    "import fw\n",
    "import numpy as np\n",
    "import time\n",
    "import matplotlib.pyplot as plt\n",
    "%matplotlib inline"
   ]
  },
  {
   "cell_type": "markdown",
   "metadata": {},
   "source": [
    "## Data generation"
   ]
  },
  {
   "cell_type": "code",
   "execution_count": 2,
   "metadata": {
    "collapsed": false
   },
   "outputs": [],
   "source": [
    "## X: n*p  W: p*m  Y: n*m\n",
    "np.random.seed(0)\n",
    "n = 100\n",
    "m = 100\n",
    "p = 100\n",
    "r = 10\n",
    "nn = 1\n",
    "X, Y, W = md.generate(n, m, p, r, nn)"
   ]
  },
  {
   "cell_type": "code",
   "execution_count": 3,
   "metadata": {
    "collapsed": false
   },
   "outputs": [
    {
     "data": {
      "text/plain": [
       "0.99730267956781216"
      ]
     },
     "execution_count": 3,
     "metadata": {},
     "output_type": "execute_result"
    }
   ],
   "source": [
    "from sklearn.linear_model import MultiTaskLasso\n",
    "MultiTaskLasso(alpha=.001).fit(X, Y).score(X, Y)"
   ]
  },
  {
   "cell_type": "code",
   "execution_count": 4,
   "metadata": {
    "collapsed": false
   },
   "outputs": [
    {
     "data": {
      "text/plain": [
       "8"
      ]
     },
     "execution_count": 4,
     "metadata": {},
     "output_type": "execute_result"
    }
   ],
   "source": [
    "points = ul.mat2point(X,Y)\n",
    "dataRDD = sc.parallelize(points).mapPartitions(ul.point2mat)\n",
    "dataRDD = dataRDD.map(fw.row_data).setName(\"dataRDD\").cache()\n",
    "dataRDD.count()"
   ]
  },
  {
   "cell_type": "markdown",
   "metadata": {},
   "source": [
    "## Loss vs. Epoch"
   ]
  },
  {
   "cell_type": "code",
   "execution_count": 5,
   "metadata": {
    "collapsed": true
   },
   "outputs": [],
   "source": [
    "T = 10                        # number of iterations of FW\n",
    "loss = np.zeros((8, T + 1))"
   ]
  },
  {
   "cell_type": "code",
   "execution_count": 6,
   "metadata": {
    "collapsed": false
   },
   "outputs": [],
   "source": [
    "# experiement parameter\n",
    "np.random.seed(0)             \n",
    "v0 = np.random.randn(m)\n",
    "\n",
    "LMO = {0: fw.centralize, \n",
    "       1: fw.avgmix,\n",
    "       2: lambda x, t=0: fw.poweriter(x, lambda t: 1, v0),\n",
    "       3: lambda x, t=0: fw.poweriter(x, lambda t: 2, v0),\n",
    "       4: lambda x, t=0: fw.poweriter(x, lambda t: 1),\n",
    "       5: lambda x, t=0: fw.poweriter(x, lambda t: 2),\n",
    "       #6: lambda x, t: fw.poweriter(x, fw.loground, v0, t),\n",
    "       #7: lambda x: fw.poweriter(x, fw.loground)\n",
    "      }"
   ]
  },
  {
   "cell_type": "code",
   "execution_count": 7,
   "metadata": {
    "collapsed": false,
    "scrolled": true
   },
   "outputs": [],
   "source": [
    "for i, lmo in LMO.items():\n",
    "    # initialization\n",
    "    loss[i, 0] = md.loss(X, Y)\n",
    "    rdd = dataRDD.map(fw.row_param)\n",
    "    np.random.seed(0)\n",
    "    \n",
    "    # iteration\n",
    "    for t in range(T):\n",
    "        rdd, _, _, loss[i, t + 1], _= fw.iterate(rdd, md, lmo, fw.linearsearch, 1, t, cm=False)\n",
    "        \n",
    "    loss[i, :] /= loss[i, 0]"
   ]
  },
  {
   "cell_type": "code",
   "execution_count": 8,
   "metadata": {
    "collapsed": false,
    "scrolled": false
   },
   "outputs": [
    {
     "data": {
      "text/plain": [
       "[<matplotlib.lines.Line2D at 0x7f03aaef5358>,\n",
       " <matplotlib.lines.Line2D at 0x7f03aaef5518>,\n",
       " <matplotlib.lines.Line2D at 0x7f03aaef57b8>,\n",
       " <matplotlib.lines.Line2D at 0x7f03aaef59b0>,\n",
       " <matplotlib.lines.Line2D at 0x7f03aaef5ba8>,\n",
       " <matplotlib.lines.Line2D at 0x7f03aaef5da0>,\n",
       " <matplotlib.lines.Line2D at 0x7f03aaef5f98>,\n",
       " <matplotlib.lines.Line2D at 0x7f03aaefd1d0>]"
      ]
     },
     "execution_count": 8,
     "metadata": {},
     "output_type": "execute_result"
    },
    {
     "data": {
      "image/png": "[encoded data removed]",
      "text/plain": [
       "<matplotlib.figure.Figure at 0x7f03ab04a710>"
      ]
     },
     "metadata": {},
     "output_type": "display_data"
    }
   ],
   "source": [
    "plt.plot(loss.T)"
   ]
  },
  {
   "cell_type": "markdown",
   "metadata": {},
   "source": [
    "## Loss vs. Time"
   ]
  },
  {
   "cell_type": "code",
   "execution_count": 9,
   "metadata": {
    "collapsed": true
   },
   "outputs": [],
   "source": [
    "elapsed = np.zeros((8, T + 1))"
   ]
  },
  {
   "cell_type": "code",
   "execution_count": 10,
   "metadata": {
    "collapsed": false
   },
   "outputs": [],
   "source": [
    "for i, lmo in LMO.items():\n",
    "    # initialization\n",
    "    rdd = dataRDD.map(fw.row_param)\n",
    "    np.random.seed(0)\n",
    "    \n",
    "    # iteration\n",
    "    elapsed[i, 0] = time.time()\n",
    "    for t in range(T):\n",
    "        rdd, _, _, _, _= fw.iterate(rdd, md, lmo, fw.linearsearch, 1, t, cl=False, cm=False)\n",
    "        elapsed[i, t + 1] = time.time()\n",
    "        \n",
    "    elapsed[i, :] -= elapsed[i, 0]"
   ]
  },
  {
   "cell_type": "code",
   "execution_count": 11,
   "metadata": {
    "collapsed": false,
    "scrolled": true
   },
   "outputs": [
    {
     "data": {
      "text/plain": [
       "[<matplotlib.lines.Line2D at 0x7f03aaea4320>,\n",
       " <matplotlib.lines.Line2D at 0x7f03aaea44a8>,\n",
       " <matplotlib.lines.Line2D at 0x7f03aaea4748>,\n",
       " <matplotlib.lines.Line2D at 0x7f03aaea4940>,\n",
       " <matplotlib.lines.Line2D at 0x7f03aaea4b38>,\n",
       " <matplotlib.lines.Line2D at 0x7f03aaea4d30>,\n",
       " <matplotlib.lines.Line2D at 0x7f03aaea4f28>,\n",
       " <matplotlib.lines.Line2D at 0x7f03aaea8160>]"
      ]
     },
     "execution_count": 11,
     "metadata": {},
     "output_type": "execute_result"
    },
    {
     "data": {
      "image/png": "[encoded data removed]",
      "text/plain": [
       "<matplotlib.figure.Figure at 0x7f03aaebb080>"
      ]
     },
     "metadata": {},
     "output_type": "display_data"
    }
   ],
   "source": [
    "plt.plot(elapsed.T, loss.T)"
   ]
  },
  {
   "cell_type": "code",
   "execution_count": null,
   "metadata": {
    "collapsed": true
   },
   "outputs": [],
   "source": []
  }
 ],
 "metadata": {
  "kernelspec": {
   "display_name": "Python 3",
   "language": "python",
   "name": "python3"
  },
  "language_info": {
   "codemirror_mode": {
    "name": "ipython",
    "version": 3
   },
   "file_extension": ".py",
   "mimetype": "text/x-python",
   "name": "python",
   "nbconvert_exporter": "python",
   "pygments_lexer": "ipython3",
   "version": "3.5.1"
  }
 },
 "nbformat": 4,
 "nbformat_minor": 0
}

{
 "cells": [
  {
   "cell_type": "code",
   "execution_count": 1,
   "metadata": {
    "collapsed": false
   },
   "outputs": [],
   "source": [
    "from imp import reload\n",
    "import utils as ul\n",
    "import mls as pb\n",
    "import fw\n",
    "import numpy as np\n",
    "import time\n",
    "import matplotlib.pyplot as plt\n",
    "%matplotlib inline"
   ]
  },
  {
   "cell_type": "markdown",
   "metadata": {},
   "source": [
    "## Data generation"
   ]
  },
  {
   "cell_type": "code",
   "execution_count": 2,
   "metadata": {
    "collapsed": false
   },
   "outputs": [],
   "source": [
    "## X: n*p  W: p*m  Y: n*m\n",
    "np.random.seed(0)\n",
    "n = 100\n",
    "m = 100\n",
    "p = 100\n",
    "r = 10\n",
    "nn = 1\n",
    "X, Y, W = pb.generate(n, m, p, r, nn)"
   ]
  },
  {
   "cell_type": "code",
   "execution_count": 3,
   "metadata": {
    "collapsed": false
   },
   "outputs": [
    {
     "data": {
      "text/plain": [
       "0.9895118201908103"
      ]
     },
     "execution_count": 3,
     "metadata": {},
     "output_type": "execute_result"
    }
   ],
   "source": [
    "from sklearn.linear_model import MultiTaskLasso\n",
    "MultiTaskLasso(alpha=.001).fit(X, Y).score(X, Y)"
   ]
  },
  {
   "cell_type": "code",
   "execution_count": 3,
   "metadata": {
    "collapsed": false
   },
   "outputs": [],
   "source": [
    "points = ul.mat2point(X,Y)\n",
    "dataRDD = sc.parallelize(points, 2).mapPartitions(ul.point2mat)\n",
    "hashedDataRDD = dataRDD.map(ul.hashkey)\n",
    "modelRDD = hashedDataRDD.mapValues(pb.Model).persist()"
   ]
  },
  {
   "cell_type": "markdown",
   "metadata": {},
   "source": [
    "## Loss vs. Epoch"
   ]
  },
  {
   "cell_type": "code",
   "execution_count": 4,
   "metadata": {
    "collapsed": true
   },
   "outputs": [],
   "source": [
    "T = 10                        # number of iterations of FW\n",
    "loss = np.zeros((8, T + 1))"
   ]
  },
  {
   "cell_type": "code",
   "execution_count": 5,
   "metadata": {
    "collapsed": false
   },
   "outputs": [],
   "source": [
    "# experiement parameter\n",
    "np.random.seed(0)             \n",
    "v0 = np.random.randn(m)\n",
    "\n",
    "LMO = {0: fw.centralize, \n",
    "       #1: fw.avgmix,\n",
    "       2: lambda x, t: fw.poweriter(x, t, lambda t: 1, v0),\n",
    "       3: lambda x, t: fw.poweriter(x, t, lambda t: 2, v0),\n",
    "       4: lambda x, t: fw.poweriter(x, t, lambda t: 1),\n",
    "       #5: lambda x, t: fw.poweriter(x, t, lambda t: 2),\n",
    "       #6: lambda x, t: fw.poweriter(x, t, fw.loground, v0),\n",
    "       #7: lambda x, t: fw.poweriter(x, t, fw.loground)\n",
    "      }"
   ]
  },
  {
   "cell_type": "code",
   "execution_count": 6,
   "metadata": {
    "collapsed": false,
    "scrolled": true
   },
   "outputs": [],
   "source": [
    "for i, lmo in LMO.items():\n",
    "    # initialization\n",
    "    loss[i, 0] = pb.loss(X, Y)\n",
    "    paramRDD = modelRDD.mapValues(lambda x: pb.Param((x.p, x.m)))\n",
    "    np.random.seed(0)\n",
    "    \n",
    "    # iteration\n",
    "    for t in range(T):\n",
    "        paramRDD, _, _, loss[i, t + 1] = fw.iterate(modelRDD, paramRDD, lmo, fw.linearsearch, 1, t)\n",
    "\n",
    "    loss[i, :] /= loss[i, 0]"
   ]
  },
  {
   "cell_type": "code",
   "execution_count": 7,
   "metadata": {
    "collapsed": false,
    "scrolled": false
   },
   "outputs": [
    {
     "data": {
      "text/plain": [
       "[<matplotlib.lines.Line2D at 0x7fce39726ac8>,\n",
       " <matplotlib.lines.Line2D at 0x7fce39726c88>,\n",
       " <matplotlib.lines.Line2D at 0x7fce39726f28>,\n",
       " <matplotlib.lines.Line2D at 0x7fce39731160>,\n",
       " <matplotlib.lines.Line2D at 0x7fce39731358>,\n",
       " <matplotlib.lines.Line2D at 0x7fce39731550>,\n",
       " <matplotlib.lines.Line2D at 0x7fce39731748>,\n",
       " <matplotlib.lines.Line2D at 0x7fce38da32b0>]"
      ]
     },
     "execution_count": 7,
     "metadata": {},
     "output_type": "execute_result"
    },
    {
     "data": {
      "image/png": "[encoded data removed]",
      "text/plain": [
       "<matplotlib.figure.Figure at 0x7fce408a4eb8>"
      ]
     },
     "metadata": {},
     "output_type": "display_data"
    }
   ],
   "source": [
    "plt.plot(loss.T)"
   ]
  },
  {
   "cell_type": "markdown",
   "metadata": {},
   "source": [
    "## Loss vs. Time"
   ]
  },
  {
   "cell_type": "code",
   "execution_count": 8,
   "metadata": {
    "collapsed": true
   },
   "outputs": [],
   "source": [
    "elapsed = np.zeros((8, T + 1))"
   ]
  },
  {
   "cell_type": "code",
   "execution_count": 9,
   "metadata": {
    "collapsed": true
   },
   "outputs": [],
   "source": [
    "# experiement parameter\n",
    "np.random.seed(0)             \n",
    "v0 = np.random.randn(m)\n",
    "\n",
    "LMO = {0: fw.centralize, \n",
    "       #1: fw.avgmix,\n",
    "       2: lambda x, t: fw.poweriter(x, t, lambda t: 1, v0),\n",
    "       3: lambda x, t: fw.poweriter(x, t, lambda t: 2, v0),\n",
    "       4: lambda x, t: fw.poweriter(x, t, lambda t: 1),\n",
    "       #5: lambda x, t: fw.poweriter(x, t, lambda t: 2),\n",
    "       #6: lambda x, t: fw.poweriter(x, t, fw.loground, v0),\n",
    "       #7: lambda x, t: fw.poweriter(x, t, fw.loground)\n",
    "      }"
   ]
  },
  {
   "cell_type": "code",
   "execution_count": 10,
   "metadata": {
    "collapsed": false
   },
   "outputs": [],
   "source": [
    "for i, lmo in LMO.items():\n",
    "    # initialization\n",
    "    paramRDD = modelRDD.mapValues(lambda x: pb.Param((x.p, x.m)))\n",
    "    np.random.seed(0)\n",
    "    \n",
    "    # iteration\n",
    "    elapsed[i, 0] = time.time()\n",
    "    for t in range(T):\n",
    "        paramRDD, _, _, _ = fw.iterate(modelRDD, paramRDD, lmo, fw.linearsearch, 1, t, False)\n",
    "        elapsed[i, t + 1] = time.time()\n",
    "        \n",
    "    elapsed[i, :] -= elapsed[i, 0]"
   ]
  },
  {
   "cell_type": "code",
   "execution_count": 11,
   "metadata": {
    "collapsed": false,
    "scrolled": true
   },
   "outputs": [
    {
     "data": {
      "text/plain": [
       "[<matplotlib.lines.Line2D at 0x7fce330435f8>,\n",
       " <matplotlib.lines.Line2D at 0x7fce330437f0>,\n",
       " <matplotlib.lines.Line2D at 0x7fce33043a90>,\n",
       " <matplotlib.lines.Line2D at 0x7fce33043c88>,\n",
       " <matplotlib.lines.Line2D at 0x7fce33043e80>,\n",
       " <matplotlib.lines.Line2D at 0x7fce330470b8>,\n",
       " <matplotlib.lines.Line2D at 0x7fce330472b0>,\n",
       " <matplotlib.lines.Line2D at 0x7fce380792e8>]"
      ]
     },
     "execution_count": 11,
     "metadata": {},
     "output_type": "execute_result"
    },
    {
     "data": {
      "image/png": "[encoded data removed]",
      "text/plain": [
       "<matplotlib.figure.Figure at 0x7fce38f6af60>"
      ]
     },
     "metadata": {},
     "output_type": "display_data"
    }
   ],
   "source": [
    "plt.plot(elapsed.T, loss.T)"
   ]
  },
  {
   "cell_type": "code",
   "execution_count": null,
   "metadata": {
    "collapsed": true
   },
   "outputs": [],
   "source": []
  }
 ],
 "metadata": {
  "kernelspec": {
   "display_name": "Python 3",
   "language": "python",
   "name": "python3"
  },
  "language_info": {
   "codemirror_mode": {
    "name": "ipython",
    "version": 3
   },
   "file_extension": ".py",
   "mimetype": "text/x-python",
   "name": "python",
   "nbconvert_exporter": "python",
   "pygments_lexer": "ipython3",
   "version": "3.5.1"
  }
 },
 "nbformat": 4,
 "nbformat_minor": 0
}

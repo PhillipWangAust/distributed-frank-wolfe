{
 "cells": [
  {
   "cell_type": "code",
   "execution_count": 3,
   "metadata": {
    "collapsed": false
   },
   "outputs": [],
   "source": [
    "using Winston"
   ]
  },
  {
   "cell_type": "code",
   "execution_count": 4,
   "metadata": {
    "collapsed": false,
    "scrolled": true
   },
   "outputs": [
    {
     "data": {
      "text/plain": [
       "IterSol"
      ]
     },
     "execution_count": 4,
     "metadata": {},
     "output_type": "execute_result"
    }
   ],
   "source": [
    "type IterSol\n",
    "    x::Array{Float64}\n",
    "    k::Int\n",
    "    IterSol(x,k) = k < 0 ? error(\"k should be positive.\") : new(x,k)\n",
    "end\n",
    "IterSol(x) = IterSol(x,0)"
   ]
  },
  {
   "cell_type": "code",
   "execution_count": 5,
   "metadata": {
    "collapsed": false
   },
   "outputs": [
    {
     "data": {
      "text/plain": [
       "ObjFun"
      ]
     },
     "execution_count": 5,
     "metadata": {},
     "output_type": "execute_result"
    }
   ],
   "source": [
    "type ObjFun\n",
    "    f::Function\n",
    "    g::Function\n",
    "    h::Function\n",
    "    e::Function\n",
    "end\n",
    "ObjFun(f, g; h=()->-1, e=f) = ObjFun(f,g,h,e)\n",
    "ObjFun(f) = error(\"A gradient function is absolutely required.\")"
   ]
  },
  {
   "cell_type": "code",
   "execution_count": 6,
   "metadata": {
    "collapsed": true
   },
   "outputs": [],
   "source": [
    "@enum MatrixForm general=1 symmetric=2 positive=3 \n",
    "\n",
    "type MatrixSpace\n",
    "    s::MatrixForm\n",
    "    n::Float64\n",
    "    MatrixSpace(s::MatrixForm,n) = n>0 ? new(s,n) : error(\"Norm should be positive.\")\n",
    "end"
   ]
  },
  {
   "cell_type": "code",
   "execution_count": 7,
   "metadata": {
    "collapsed": false
   },
   "outputs": [
    {
     "data": {
      "text/plain": [
       "powerIter (generic function with 1 method)"
      ]
     },
     "execution_count": 7,
     "metadata": {},
     "output_type": "execute_result"
    }
   ],
   "source": [
    "function powerIter(A, x; mynorm = norm, maxiter=10)\n",
    "    buff_x = Vector{Float64}[]\n",
    "    buff_c = Float64[]\n",
    "    \n",
    "    for i = 1:maxiter\n",
    "        c = mynorm(x)\n",
    "        x /= c\n",
    "        push!(buff_x, x)\n",
    "        push!(buff_c, c)\n",
    "        x = A*x\n",
    "    end\n",
    "    c = mynorm(x)\n",
    "    x /= c\n",
    "    \n",
    "    push!(buff_x, x)\n",
    "    push!(buff_c, c)   \n",
    "    return buff_c, buff_x\n",
    "end"
   ]
  },
  {
   "cell_type": "code",
   "execution_count": 8,
   "metadata": {
    "collapsed": false
   },
   "outputs": [
    {
     "data": {
      "text/plain": [
       "aitken (generic function with 2 methods)"
      ]
     },
     "execution_count": 8,
     "metadata": {},
     "output_type": "execute_result"
    }
   ],
   "source": [
    "function aitken{T<:Real}(x::Vector{T})\n",
    "    Δ = diff(x)\n",
    "    Δ2 = diff(Δ)\n",
    "    y = x[1:end-2] - Δ[1:end-1].^2 ./ Δ2\n",
    "    ind = isnan(y)\n",
    "    y[ind] = x[[ind;false;false]]\n",
    "    return y\n",
    "end\n",
    "\n",
    "function aitken{T<:Real,N}(x::Vector{Array{T,N}})\n",
    "    Δ = diff(x)\n",
    "    Δ2 = diff(Δ)\n",
    "    \n",
    "    y = similar(Δ2)\n",
    "    for i = 1:length(x)-2\n",
    "        y[i] = x[i] - Δ[i].^2 ./ Δ2[i]\n",
    "        ind = isnan(y[i])\n",
    "        y[i][ind] = x[i][ind]\n",
    "    end\n",
    "    return y\n",
    "end"
   ]
  },
  {
   "cell_type": "code",
   "execution_count": 9,
   "metadata": {
    "collapsed": false
   },
   "outputs": [
    {
     "data": {
      "text/plain": [
       "gargmin (generic function with 1 method)"
      ]
     },
     "execution_count": 9,
     "metadata": {},
     "output_type": "execute_result"
    }
   ],
   "source": [
    "function gargmin(x::Matrix{Float64}, A::Matrix{Float64}, t::Int, param::Dict)\n",
    "    \n",
    "    if param[:precise]\n",
    "        u,_,v = svd(A)\n",
    "        return -u[:,1]*v[:,1]'\n",
    "    end\n",
    "    \n",
    "    srand(1)\n",
    "    v = randn(size(A,2))\n",
    "    \n",
    "    if param[:warm]\n",
    "        u = zeros(m)\n",
    "        v = zeros(n)\n",
    "        for k = 1:N\n",
    "            (U,_,V) = svd(projgrad(X[k],x))\n",
    "            u += U[:,1]\n",
    "            v += V[:,1]\n",
    "        end\n",
    "        u /= norm(u)\n",
    "        v /= norm(v)\n",
    "    end\n",
    "    \n",
    "    if param[:power]\n",
    "        _,v = powerIter(A'*A, v, maxiter = param[:maxiter])\n",
    "        v = Vector{Float64}[v[i]/norm(v[i]) for i = 1:length(v)]\n",
    "        param[:aitken] && (v = aitken(v))\n",
    "        v = v[end]\n",
    "        u = A*v\n",
    "        u /= norm(u)\n",
    "    end\n",
    "\n",
    "    return -u*v'\n",
    "    \n",
    "end"
   ]
  },
  {
   "cell_type": "code",
   "execution_count": 10,
   "metadata": {
    "collapsed": false
   },
   "outputs": [
    {
     "data": {
      "text/plain": [
       "projgrad (generic function with 1 method)"
      ]
     },
     "execution_count": 10,
     "metadata": {},
     "output_type": "execute_result"
    }
   ],
   "source": [
    "support(x) = (x .≠ zero(x))\n",
    "projgrad(M,X) = (X - M) .* support(M)"
   ]
  },
  {
   "cell_type": "code",
   "execution_count": 11,
   "metadata": {
    "collapsed": false
   },
   "outputs": [
    {
     "data": {
      "text/plain": [
       "fw (generic function with 1 method)"
      ]
     },
     "execution_count": 11,
     "metadata": {},
     "output_type": "execute_result"
    }
   ],
   "source": [
    "function fw(ob::ObjFun, argmin::Function, T::Int, param::Dict)\n",
    "    err = zeros(T+1)\n",
    "    X = zeros(m,n)\n",
    "    err[1] = ob.f(X)\n",
    "    for t = 1:T\n",
    "        Y = argmin(X, ob.g(X), t, param)\n",
    "        α = ob.h(X,Y)\n",
    "        param[:debug] && println(α, Y)\n",
    "        X = (1-α)*X + α*Y\n",
    "        err[1+t] = ob.f(X)\n",
    "    end\n",
    "    return err\n",
    "end"
   ]
  },
  {
   "cell_type": "code",
   "execution_count": 12,
   "metadata": {
    "collapsed": false
   },
   "outputs": [],
   "source": [
    "# construct the problem\n",
    "const m = 100\n",
    "const n = 100\n",
    "srand(0)\n",
    "(U,S,V) = svd(randn(m,n))\n",
    "S[6:end] = 0\n",
    "S /= sum(S)\n",
    "Φ = U*diagm(S)*V';\n",
    ";"
   ]
  },
  {
   "cell_type": "code",
   "execution_count": 13,
   "metadata": {
    "collapsed": false
   },
   "outputs": [],
   "source": [
    "N = 15\n",
    "srand(0)\n",
    "X = Matrix{Float64}[zeros(m,n) for i = 0:N];\n",
    "for i in eachindex(Φ)\n",
    "    if rand(1:10)-1 == 0 \n",
    "        X[end][i] = Φ[i]\n",
    "    else\n",
    "        X[rand(1:N)][i] = Φ[i]\n",
    "    end\n",
    "end\n",
    "Φ = sum(X[1:end-1]);"
   ]
  },
  {
   "cell_type": "code",
   "execution_count": 14,
   "metadata": {
    "collapsed": false
   },
   "outputs": [
    {
     "data": {
      "text/plain": [
       "ObjFun((anonymous function),(anonymous function),(anonymous function),(anonymous function))"
      ]
     },
     "execution_count": 14,
     "metadata": {},
     "output_type": "execute_result"
    }
   ],
   "source": [
    "f1 = M -> sumabs2(projgrad(X[end],M))/2\n",
    "f2 = M -> projgrad(Φ,M)\n",
    "f3 = (x,y) -> begin\n",
    "    T = y - x\n",
    "    α = min(1, sum(-projgrad(Φ,x).*T)/sumabs2(T))\n",
    "end\n",
    "f4 = e -> e/f1(zeros(Φ))\n",
    "\n",
    "ob = ObjFun(f1,f2,f3,f4)\n",
    "#cn = MatrixSpace(general,1)"
   ]
  },
  {
   "cell_type": "code",
   "execution_count": 15,
   "metadata": {
    "collapsed": false
   },
   "outputs": [
    {
     "data": {
      "text/plain": [
       "ObjFun((anonymous function),(anonymous function),(anonymous function),(anonymous function))"
      ]
     },
     "execution_count": 15,
     "metadata": {},
     "output_type": "execute_result"
    }
   ],
   "source": [
    "g1 = M -> sumabs2(M-X[1])/2\n",
    "g2 = M -> projgrad(X[1],M)\n",
    "g3 = (x,y) -> begin\n",
    "    T = y - x\n",
    "    α = min(1, sum(-projgrad(X[1],x).*T)/sumabs2(T))\n",
    "end\n",
    "g4 = e -> e/g1(zeros(Φ))\n",
    "\n",
    "ob2 = ObjFun(f1,g2,g3,f4)"
   ]
  },
  {
   "cell_type": "code",
   "execution_count": 16,
   "metadata": {
    "collapsed": false
   },
   "outputs": [
    {
     "data": {
      "text/plain": [
       "Dict{Symbol,Array{Float64,1}} with 0 entries"
      ]
     },
     "execution_count": 16,
     "metadata": {},
     "output_type": "execute_result"
    }
   ],
   "source": [
    "param = Dict(:precise => false, :warm => false, :power => true, :aitken => false, :maxiter => 1, :debug => false)\n",
    "err = Dict{Symbol, Vector{Float64}}()"
   ]
  },
  {
   "cell_type": "code",
   "execution_count": 17,
   "metadata": {
    "collapsed": false,
    "scrolled": false
   },
   "outputs": [
    {
     "data": {
      "image/png": "[encoded data removed]",
      "text/plain": [
       "Winston.FramedPlot(...)"
      ]
     },
     "execution_count": 17,
     "metadata": {},
     "output_type": "execute_result"
    }
   ],
   "source": [
    "param = Dict(:precise => true, :warm => false, :power => true, :aitken => false, :maxiter => 1, :debug => false)\n",
    "err[:single] = fw(ob2,gargmin,n,param)\n",
    "plot(ob2.e(err[:single]),\".\")\n",
    "err[:precise] = fw(ob,gargmin,n,param)\n",
    "oplot(ob.e(err[:precise]))"
   ]
  },
  {
   "cell_type": "code",
   "execution_count": 18,
   "metadata": {
    "collapsed": false
   },
   "outputs": [
    {
     "data": {
      "image/png": "[encoded data removed]",
      "text/plain": [
       "Winston.FramedPlot(...)"
      ]
     },
     "execution_count": 18,
     "metadata": {},
     "output_type": "execute_result"
    }
   ],
   "source": [
    "param = Dict(:precise => false, :warm => true, :power => false, :aitken => false, :maxiter => 1, :debug => false)\n",
    "err[:mixture] = fw(ob,gargmin,n,param)\n",
    "oplot(ob.e(err[:mixture]))"
   ]
  },
  {
   "cell_type": "code",
   "execution_count": null,
   "metadata": {
    "collapsed": true
   },
   "outputs": [],
   "source": [
    "param = Dict(:precise => false, :warm => false, :power => true, :aitken => false, :debug => false, :maxiter => 1)\n",
    "err[:power1] = fw(ob,gargmin,n,param)\n",
    "oplot(ob.e(err[:power1]),\"b\")\n",
    "param[:maxiter] = 2\n",
    "err[:power2] = fw(ob,gargmin,n,param)\n",
    "oplot(ob.e(err[:power2]),\"b\")"
   ]
  },
  {
   "cell_type": "code",
   "execution_count": 23,
   "metadata": {
    "collapsed": false,
    "scrolled": true
   },
   "outputs": [
    {
     "data": {
      "image/png": "[encoded data removed]",
      "text/plain": [
       "Winston.FramedPlot(...)"
      ]
     },
     "execution_count": 23,
     "metadata": {},
     "output_type": "execute_result"
    }
   ],
   "source": [
    "param[:maxiter] = 3\n",
    "err[:power3] = fw(ob,gargmin,5n,param)\n",
    "oplot(ob.e(err[:power3]),\"b\")"
   ]
  },
  {
   "cell_type": "code",
   "execution_count": 22,
   "metadata": {
    "collapsed": false
   },
   "outputs": [
    {
     "data": {
      "image/png": "[encoded data removed]",
      "text/plain": [
       "Winston.FramedPlot(...)"
      ]
     },
     "execution_count": 22,
     "metadata": {},
     "output_type": "execute_result"
    }
   ],
   "source": [
    "param = Dict(:precise => false, :warm => true, :power => true, :aitken => false, :debug => false, :maxiter => 1)\n",
    "err[:warm1] = fw(ob,gargmin,5n,param)\n",
    "oplot(ob.e(err[:warm1]),\"r\")"
   ]
  },
  {
   "cell_type": "code",
   "execution_count": 21,
   "metadata": {
    "collapsed": false
   },
   "outputs": [
    {
     "data": {
      "image/png": "[encoded data removed]",
      "text/plain": [
       "Winston.FramedPlot(...)"
      ]
     },
     "execution_count": 21,
     "metadata": {},
     "output_type": "execute_result"
    }
   ],
   "source": [
    "loglog(ob2.e(err[:single]),\".\")\n",
    "oplot(ob.e(err[:precise]))\n",
    "oplot(ob.e(err[:mixture]))\n",
    "oplot(ob.e(err[:power1]),\"b\")\n",
    "oplot(ob.e(err[:power2]),\"b\")\n",
    "oplot(ob.e(err[:warm1]),\"r\")\n",
    "#legend([\"single:0\";\"precise:∞\";\"mixture:0.5\";\"power:1\";\"power:2\";\"warm:1.5\"],[.7,.66])"
   ]
  },
  {
   "cell_type": "code",
   "execution_count": null,
   "metadata": {
    "collapsed": false
   },
   "outputs": [],
   "source": [
    "param = Dict(:precise => false, :warm => false, :power => true, :aitken => false, :maxiter => 1, :debug => false)\n",
    "err2 = Dict{Symbol, Vector{Float64}}()\n",
    "T = 1000"
   ]
  },
  {
   "cell_type": "code",
   "execution_count": null,
   "metadata": {
    "collapsed": true
   },
   "outputs": [],
   "source": [
    "param[:precise] = true\n",
    "err2[:precise] = fw(ob,gargmin,T,param)"
   ]
  },
  {
   "cell_type": "code",
   "execution_count": null,
   "metadata": {
    "collapsed": true
   },
   "outputs": [],
   "source": [
    "param = Dict(:precise => false, :warm => false, :power => true, :aitken => false, :debug => false, :maxiter => 1)\n",
    "err2[:power1] = fw(ob,gargmin,T,param)\n",
    "param[:maxiter] = 2\n",
    "err2[:power2] = fw(ob,gargmin,T,param)"
   ]
  },
  {
   "cell_type": "code",
   "execution_count": null,
   "metadata": {
    "collapsed": false
   },
   "outputs": [],
   "source": [
    "@show S = Int(ceil(T/10))\n",
    "loglog(S:T,ob.e(err2[:precise][S:T]))\n",
    "oplot(S:T,ob.e(err2[:power1][S:T]),\"b\")\n",
    "oplot(S:T,ob.e(err2[:power2][S:T]),\"b\")"
   ]
  },
  {
   "cell_type": "code",
   "execution_count": null,
   "metadata": {
    "collapsed": true
   },
   "outputs": [],
   "source": [
    "T = 10000\n",
    "err3 = Dict{Symbol, Vector{Float64}}()\n",
    "param = Dict(:precise => false, :warm => false, :power => true, :aitken => false, :debug => false, :maxiter => 2)\n",
    "err3[:power2] = fw(ob,gargmin,T,param)"
   ]
  },
  {
   "cell_type": "code",
   "execution_count": null,
   "metadata": {
    "collapsed": true
   },
   "outputs": [],
   "source": [
    "param[:maxiter] = 3\n",
    "err3[:power3] = fw(ob,gargmin,T,param)"
   ]
  },
  {
   "cell_type": "code",
   "execution_count": null,
   "metadata": {
    "collapsed": true
   },
   "outputs": [],
   "source": [
    "param[:maxiter] = 4\n",
    "err3[:power4] = fw(ob,gargmin,T,param)"
   ]
  },
  {
   "cell_type": "code",
   "execution_count": null,
   "metadata": {
    "collapsed": false
   },
   "outputs": [],
   "source": [
    "@show S = Int(ceil(T/10))\n",
    "loglog(S:T,ob.e(err3[:power2][S:T]),\"b\")\n",
    "oplot(S:T,ob.e(err3[:power3][S:T]),\"b\")\n",
    "oplot(S:T,ob.e(err3[:power4][S:T]),\"b\")"
   ]
  }
 ],
 "metadata": {
  "kernelspec": {
   "display_name": "Julia 0.4.1-pre",
   "language": "julia",
   "name": "julia-0.4"
  },
  "language_info": {
   "file_extension": ".jl",
   "mimetype": "application/julia",
   "name": "julia",
   "version": "0.4.6"
  }
 },
 "nbformat": 4,
 "nbformat_minor": 0
}

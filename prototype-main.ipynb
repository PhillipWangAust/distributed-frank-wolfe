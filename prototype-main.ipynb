{
 "cells": [
  {
   "cell_type": "code",
   "execution_count": 1,
   "metadata": {
    "collapsed": true
   },
   "outputs": [],
   "source": [
    "import numpy as np\n",
    "from time import time\n",
    "from utils import *\n",
    "import mls as md\n",
    "import fw"
   ]
  },
  {
   "cell_type": "markdown",
   "metadata": {},
   "source": [
    "# Warehouse"
   ]
  },
  {
   "cell_type": "code",
   "execution_count": 2,
   "metadata": {
    "collapsed": false
   },
   "outputs": [],
   "source": [
    "# X: n*p  W: p*m  Y: n*m\n",
    "# =======================\n",
    "\n",
    "# default parameters\n",
    "param = {'n':100, 'm':100, 'p':100, 'r':10, 'nn':1, 'seed':0}\n",
    "\n",
    "# generate data\n",
    "data, W = md.generate(**param)\n",
    "\n",
    "# prepare data\n",
    "points = mat2point(*data)\n",
    "dataRDD = sc.parallelize(points, 2).mapPartitions(point2mat)"
   ]
  },
  {
   "cell_type": "markdown",
   "metadata": {},
   "source": [
    "# Optimization"
   ]
  },
  {
   "cell_type": "code",
   "execution_count": 3,
   "metadata": {
    "collapsed": false,
    "scrolled": true
   },
   "outputs": [],
   "source": [
    "# parameter\n",
    "T = 2\n",
    "lmo = fw.centralize\n",
    "step = fw.linesearch\n",
    "nn = 1\n",
    "# init\n",
    "U = []\n",
    "V = []\n",
    "A = np.array([])\n",
    "timer = np.zeros(T)\n",
    "statRDD = dataRDD.map(md.stats).setName(\"initial\").persist()\n",
    "# iter\n",
    "for t in range(T):\n",
    "    u, v = fw.regularize(*lmo(statRDD), nn)\n",
    "    a = step(rdd = statRDD, u = u, v = v, t = t, ls = md.linesearch)\n",
    "    timer[t] = time()\n",
    "    statRDD = fw.update(statRDD, u, v, a, f = md.update)\n",
    "    statRDD.setName(\"turn\" + str(t)).persist()\n",
    "    U.append(u)\n",
    "    V.append(v)\n",
    "    A = np.append(A, a)"
   ]
  },
  {
   "cell_type": "markdown",
   "metadata": {},
   "source": [
    "# Evaluation"
   ]
  },
  {
   "cell_type": "code",
   "execution_count": 4,
   "metadata": {
    "collapsed": false
   },
   "outputs": [],
   "source": [
    "emprisk = [md.loss(*data)]\n",
    "eva = [np.linalg.norm(todense(W))]"
   ]
  },
  {
   "cell_type": "code",
   "execution_count": 5,
   "metadata": {
    "collapsed": false
   },
   "outputs": [],
   "source": [
    "W0 = LRmatrix([], [], [])\n",
    "for u, v, a in zip(U, V, A):\n",
    "    W0 = LRmatrix([a], [u], [v]) + (1 - a) * W0\n",
    "    emprisk.append(md.loss(*data, W0))\n",
    "    eva.append(np.linalg.norm(todense(W0 + -W)))\n",
    "emprisk = [x / emprisk[0] for x in emprisk]\n",
    "eva = [x / eva[0] for x in eva]"
   ]
  },
  {
   "cell_type": "code",
   "execution_count": 6,
   "metadata": {
    "collapsed": true
   },
   "outputs": [],
   "source": [
    "import matplotlib.pyplot as plt\n",
    "%matplotlib inline"
   ]
  },
  {
   "cell_type": "code",
   "execution_count": 7,
   "metadata": {
    "collapsed": false,
    "scrolled": true
   },
   "outputs": [
    {
     "data": {
      "text/plain": [
       "[<matplotlib.lines.Line2D at 0x7f881403f208>]"
      ]
     },
     "execution_count": 7,
     "metadata": {},
     "output_type": "execute_result"
    },
    {
     "data": {
      "image/png": "[encoded data removed]",
      "text/plain": [
       "<matplotlib.figure.Figure at 0x7f88314db358>"
      ]
     },
     "metadata": {},
     "output_type": "display_data"
    }
   ],
   "source": [
    "plt.plot(emprisk)"
   ]
  },
  {
   "cell_type": "code",
   "execution_count": 8,
   "metadata": {
    "collapsed": false,
    "scrolled": false
   },
   "outputs": [
    {
     "data": {
      "text/plain": [
       "[<matplotlib.lines.Line2D at 0x7f880f5da400>]"
      ]
     },
     "execution_count": 8,
     "metadata": {},
     "output_type": "execute_result"
    },
    {
     "data": {
      "image/png": "[encoded data removed]",
      "text/plain": [
       "<matplotlib.figure.Figure at 0x7f8814017320>"
      ]
     },
     "metadata": {},
     "output_type": "display_data"
    }
   ],
   "source": [
    "plt.plot(eva)"
   ]
  },
  {
   "cell_type": "code",
   "execution_count": 9,
   "metadata": {
    "collapsed": false,
    "scrolled": false
   },
   "outputs": [
    {
     "data": {
      "text/plain": [
       "[<matplotlib.lines.Line2D at 0x7f880f5c2cc0>]"
      ]
     },
     "execution_count": 9,
     "metadata": {},
     "output_type": "execute_result"
    },
    {
     "data": {
      "image/png": "[encoded data removed]",
      "text/plain": [
       "<matplotlib.figure.Figure at 0x7f880f6319e8>"
      ]
     },
     "metadata": {},
     "output_type": "display_data"
    }
   ],
   "source": [
    "plt.plot(np.diff(timer))"
   ]
  },
  {
   "cell_type": "code",
   "execution_count": 13,
   "metadata": {
    "collapsed": false
   },
   "outputs": [
    {
     "data": {
      "text/plain": [
       "0.2857921340203271"
      ]
     },
     "execution_count": 13,
     "metadata": {},
     "output_type": "execute_result"
    }
   ],
   "source": [
    "prod(emprisk + eva)"
   ]
  }
 ],
 "metadata": {
  "kernelspec": {
   "display_name": "Python 3",
   "language": "python",
   "name": "python3"
  },
  "language_info": {
   "codemirror_mode": {
    "name": "ipython",
    "version": 3
   },
   "file_extension": ".py",
   "mimetype": "text/x-python",
   "name": "python",
   "nbconvert_exporter": "python",
   "pygments_lexer": "ipython3",
   "version": "3.5.1"
  }
 },
 "nbformat": 4,
 "nbformat_minor": 0
}

{
 "cells": [
  {
   "cell_type": "code",
   "execution_count": 2,
   "metadata": {
    "collapsed": true
   },
   "outputs": [],
   "source": [
    "from imp import reload\n",
    "import numpy as np\n",
    "from utils import *"
   ]
  },
  {
   "cell_type": "code",
   "execution_count": 10,
   "metadata": {
    "collapsed": false
   },
   "outputs": [],
   "source": [
    "# lmo\n",
    "def add(x, y):\n",
    "    return x + y\n",
    "\n",
    "def loground(t, c = 1):\n",
    "    return 1 + np.int(c * np.log10(.99 + t))\n",
    "\n",
    "def centralize(rdd, svd = viaSVD, **kwargs):\n",
    "    grad = rdd.map(lambda z: z['grad']).reduce(add)\n",
    "    return svd(grad)\n",
    "\n",
    "def warmstart(rdd, svd = viaSVD, **kwargs):\n",
    "    return rdd.map(lambda z: svd(z['grad']))\n",
    "\n",
    "def avgmix(rdd, **kwargs):\n",
    "    return warmstart(rdd).reduce(lambda x, y: (x[0] + y[0], x[1] + y[1]))\n",
    "\n",
    "def poweriter(rdd, max_iter, v = None, t = 0):\n",
    "    if v is None:\n",
    "        v = warmstart(rdd).map(lambda z: z[1]).reduce(add)\n",
    "    elif v == \"random\":\n",
    "        v = np.random.randn(kwargs['m'])\n",
    "    \n",
    "    k = max_iter(t)\n",
    "    for _ in range(int(k)):\n",
    "        u = rdd.map(lambda z: np.dot(z['grad'], v)).reduce(add)\n",
    "        u /= np.linalg.norm(u)\n",
    "        v = rdd.map(lambda z: np.dot(u, z['grad'])).reduce(add)\n",
    "        v /= np.linalg.norm(v)\n",
    "    if k > int(k):\n",
    "        u = rdd.map(lambda z: np.dot(z['grad'], v)).reduce(add)\n",
    "        u /= np.linalg.norm(u)        \n",
    "    return u, v\n",
    "\n",
    "def regularize(u, v, nn):\n",
    "    u /= np.linalg.norm(u)\n",
    "    v /= np.linalg.norm(v)\n",
    "    u *= -nn\n",
    "    return u, v"
   ]
  },
  {
   "cell_type": "code",
   "execution_count": 8,
   "metadata": {
    "collapsed": true
   },
   "outputs": [],
   "source": [
    "# ls\n",
    "def naivestep(*args, t, **kwargs):\n",
    "    return 2./ (t + 2)\n",
    "\n",
    "def linearsearch(*args, rdd, u, v, ls, **kwargs):\n",
    "    a = rdd.map(lambda z: ls(**z, D = LRmatrix([1], [u], [v]))).reduce(add)\n",
    "    return min(a[0] / a[1], 1)"
   ]
  },
  {
   "cell_type": "code",
   "execution_count": 9,
   "metadata": {
    "collapsed": true
   },
   "outputs": [],
   "source": [
    "# update\n",
    "def update(rdd, u, v, a, f):\n",
    "    return rdd.map(lambda z: f(z, LRmatrix([1], [u], [v]), a))"
   ]
  },
  {
   "cell_type": "code",
   "execution_count": 11,
   "metadata": {
    "collapsed": false,
    "scrolled": true
   },
   "outputs": [
    {
     "ename": "AssertionError",
     "evalue": "",
     "output_type": "error",
     "traceback": [
      "\u001b[0;31m---------------------------------------------------------------------------\u001b[0m",
      "\u001b[0;31mAssertionError\u001b[0m                            Traceback (most recent call last)",
      "\u001b[0;32m<ipython-input-11-c0d9c7a37167>\u001b[0m in \u001b[0;36m<module>\u001b[0;34m()\u001b[0m\n\u001b[1;32m     30\u001b[0m \u001b[0;31m# update\u001b[0m\u001b[0;34m\u001b[0m\u001b[0;34m\u001b[0m\u001b[0m\n\u001b[1;32m     31\u001b[0m \u001b[0mstatRDD\u001b[0m \u001b[0;34m=\u001b[0m \u001b[0mupdate\u001b[0m\u001b[0;34m(\u001b[0m\u001b[0mstatRDD\u001b[0m\u001b[0;34m,\u001b[0m \u001b[0mu\u001b[0m\u001b[0;34m,\u001b[0m \u001b[0mv\u001b[0m\u001b[0;34m,\u001b[0m \u001b[0ma\u001b[0m\u001b[0;34m,\u001b[0m \u001b[0mmd\u001b[0m\u001b[0;34m.\u001b[0m\u001b[0mupdate\u001b[0m\u001b[0;34m)\u001b[0m\u001b[0;34m\u001b[0m\u001b[0m\n\u001b[0;32m---> 32\u001b[0;31m \u001b[0;32massert\u001b[0m \u001b[0mnp\u001b[0m\u001b[0;34m.\u001b[0m\u001b[0misclose\u001b[0m\u001b[0;34m(\u001b[0m\u001b[0mprod\u001b[0m\u001b[0;34m(\u001b[0m\u001b[0mcentralize\u001b[0m\u001b[0;34m(\u001b[0m\u001b[0mstatRDD\u001b[0m\u001b[0;34m)\u001b[0m\u001b[0;34m)\u001b[0m\u001b[0;34m,\u001b[0m \u001b[0;34m-\u001b[0m\u001b[0;36m0.00195662557\u001b[0m\u001b[0;34m)\u001b[0m\u001b[0;34m\u001b[0m\u001b[0m\n\u001b[0m",
      "\u001b[0;31mAssertionError\u001b[0m: "
     ]
    }
   ],
   "source": [
    "import mls as md\n",
    "# X: n*p  W: p*m  Y: n*m\n",
    "# =======================\n",
    "\n",
    "# default parameters\n",
    "param = {'n':16, 'm':5, 'p':4, 'r':3, 'nn':1, 'seed':0}\n",
    "\n",
    "# generate data\n",
    "data, W = md.generate(**param)\n",
    "\n",
    "# prepare data\n",
    "points = mat2point(*data)\n",
    "dataRDD = sc.parallelize(points).mapPartitions(point2mat)\n",
    "dataRDD.count()\n",
    "statRDD = dataRDD.map(md.stats).cache()\n",
    "statRDD.count()\n",
    "\n",
    "# lmo\n",
    "#assert np.isclose(prod(centralize(statRDD)), 7.186559722e-06)\n",
    "#assert np.isclose(prod(avgmix(statRDD)), 275.7011134)\n",
    "assert np.isclose(prod(poweriter(statRDD, lambda t: 3)), 2.863723520e-06)\n",
    "u, v = regularize(*centralize(statRDD), 1)\n",
    "assert np.isclose(prod((u, v)), 2.852219061e-06)\n",
    "\n",
    "# ls\n",
    "assert np.isclose(naivestep(t = 2), 0.5)\n",
    "a = linearsearch(rdd = statRDD, u = u, v = v, ls = md.linesearch)\n",
    "assert np.isclose(a, 0.3897265)\n",
    "\n",
    "# update\n",
    "statRDD = update(statRDD, u, v, a, md.update)\n",
    "#assert np.isclose(prod(centralize(statRDD)), -0.00195662557)"
   ]
  },
  {
   "cell_type": "code",
   "execution_count": 9,
   "metadata": {
    "collapsed": false
   },
   "outputs": [
    {
     "data": {
      "text/plain": [
       "(array([ 0.84906909,  0.38234866,  0.35159612,  0.09628789]),\n",
       " array([-0.23446779,  0.13106294, -0.1648418 , -0.05406997, -0.94749722]))"
      ]
     },
     "execution_count": 9,
     "metadata": {},
     "output_type": "execute_result"
    }
   ],
   "source": [
    "(centralize(statRDD))"
   ]
  }
 ],
 "metadata": {
  "kernelspec": {
   "display_name": "Python 3",
   "language": "python",
   "name": "python3"
  },
  "language_info": {
   "codemirror_mode": {
    "name": "ipython",
    "version": 3
   },
   "file_extension": ".py",
   "mimetype": "text/x-python",
   "name": "python",
   "nbconvert_exporter": "python",
   "pygments_lexer": "ipython3",
   "version": "3.5.2+"
  }
 },
 "nbformat": 4,
 "nbformat_minor": 0
}

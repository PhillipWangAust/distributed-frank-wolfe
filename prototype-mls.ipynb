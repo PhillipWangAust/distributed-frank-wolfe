{
 "cells": [
  {
   "cell_type": "code",
   "execution_count": 2,
   "metadata": {
    "collapsed": true
   },
   "outputs": [],
   "source": [
    "#!/usr/bin/env python3\n",
    "import numpy as np\n",
    "from utils import *"
   ]
  },
  {
   "cell_type": "code",
   "execution_count": 13,
   "metadata": {
    "collapsed": false
   },
   "outputs": [],
   "source": [
    "def generate(n = 16, m = 5, p = 4, r = 3, nn = 1, seed = 0):\n",
    "    np.random.seed(seed)\n",
    "    X = np.random.randn(n, p)\n",
    "    W = lowrank(p, m, r, nn)\n",
    "    Y = lrrmul(X, W).todense()\n",
    "    return (X, Y), W\n",
    "\n",
    "def loss(X, Y, W = None):\n",
    "    if W is None:\n",
    "        W = np.zeros((X.shape[1], Y.shape[1]))\n",
    "    Y2 = todense(dot(X, W))\n",
    "    return np.sum((Y2 - Y)**2) / 2\n",
    "\n",
    "def XX_XY(X, Y):\n",
    "    return np.dot(X.T, X), np.dot(X.T, Y)\n",
    "\n",
    "def stats(data, W = LRmatrix([], [], [])):\n",
    "    XX, XY = XX_XY(*data)\n",
    "    XXW = dot(XX, W)\n",
    "    grad = XXW + -XY\n",
    "    if len(W) == 0:\n",
    "        XXW = np.zeros_like(XY)\n",
    "        W = np.zeros_like(grad)\n",
    "    XXW = todense(XXW)\n",
    "    W = todense(W)\n",
    "    return {'XX':XX, 'XXW':XXW, 'grad':grad, 'W':W}\n",
    "\n",
    "def linesearch(XX, XXW, grad, W, D):\n",
    "    Z = todense(D) - W\n",
    "    num = np.sum(-grad * Z)\n",
    "    XXD = dot(XX, D)\n",
    "    den = np.sum(todense(XXD + -XXW) * Z) \n",
    "    return np.array([num, den])\n",
    "\n",
    "def update(s, D, a):\n",
    "    s['grad'] -= todense(s['XXW'])\n",
    "    s['XXW'] *= 1 - a\n",
    "    if isinstance(D, LRmatrix):\n",
    "        s['XXW'] = lrrmul(s['XX'], a * D) + s['XXW']\n",
    "    else:\n",
    "        s['XXW'] += np.dot(s['XX'], a * D) \n",
    "    s['grad'] += todense(s['XXW'])\n",
    "    s['W'] = a * D + (1 - a) * s['W']\n",
    "    return s"
   ]
  },
  {
   "cell_type": "code",
   "execution_count": 14,
   "metadata": {
    "collapsed": false
   },
   "outputs": [
    {
     "name": "stdout",
     "output_type": "stream",
     "text": [
      "Test: mls.py...OK\n"
     ]
    }
   ],
   "source": [
    "# generate data\n",
    "param = {'n':16, 'm':5, 'p':4, 'r':3, 'nn':1, 'seed':0}\n",
    "data, W = generate(**param)\n",
    "assert np.isclose(prod(data), 1.29557e-84)\n",
    "\n",
    "# loss\n",
    "X = np.array([[1, 2], [3, 4]], np.float_)\n",
    "Y = np.array([[10, 20], [30, 40]], np.float_)\n",
    "assert np.isclose(loss(X, Y), 1500.)\n",
    "W = LRmatrix([2], [np.array([1, 2])], [np.array([1, 2])])\n",
    "assert np.isclose(loss(X, Y, W), 40.)\n",
    "\n",
    "# XX_XY\n",
    "assert np.isclose(prod(XX_XY(X, Y)), 15366400000000)\n",
    "\n",
    "# stats, linesearch\n",
    "D = LRmatrix([4], [np.array([1, 1])], [np.array([1, 0])])\n",
    "s = stats((X, Y), W)\n",
    "a = linesearch(**s, D = D)\n",
    "b = linesearch(**stats((X, Y), W.todense()), D = D.todense())\n",
    "assert np.allclose(a, b)\n",
    "linesearch(**stats((X, Y)), D = D)\n",
    "\n",
    "# update\n",
    "assert prod(update(s, D, 0.5)['XXW']) == 86118336\n",
    "\n",
    "print('Test: mls.py...OK')"
   ]
  },
  {
   "cell_type": "code",
   "execution_count": null,
   "metadata": {
    "collapsed": true
   },
   "outputs": [],
   "source": []
  }
 ],
 "metadata": {
  "kernelspec": {
   "display_name": "Python 3",
   "language": "python",
   "name": "python3"
  },
  "language_info": {
   "codemirror_mode": {
    "name": "ipython",
    "version": 3
   },
   "file_extension": ".py",
   "mimetype": "text/x-python",
   "name": "python",
   "nbconvert_exporter": "python",
   "pygments_lexer": "ipython3",
   "version": "3.5.1"
  }
 },
 "nbformat": 4,
 "nbformat_minor": 0
}

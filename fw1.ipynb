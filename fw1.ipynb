{
 "cells": [
  {
   "cell_type": "code",
   "execution_count": 1,
   "metadata": {
    "collapsed": false
   },
   "outputs": [],
   "source": [
    "from imp import reload\n",
    "import utils as ul\n",
    "import mls as pb\n",
    "import fw\n",
    "#import park as sc\n",
    "import numpy as np\n",
    "import matplotlib.pyplot as plt\n",
    "%matplotlib inline"
   ]
  },
  {
   "cell_type": "markdown",
   "metadata": {},
   "source": [
    "## Data generation"
   ]
  },
  {
   "cell_type": "code",
   "execution_count": 2,
   "metadata": {
    "collapsed": false
   },
   "outputs": [],
   "source": [
    "## X: n*p  W: p*m  Y: n*m\n",
    "np.random.seed(0)\n",
    "X, Y, W = pb.generate(n = 16)\n",
    "n = Y.shape[0]\n",
    "m = Y.shape[1]\n",
    "p = X.shape[1]"
   ]
  },
  {
   "cell_type": "code",
   "execution_count": 3,
   "metadata": {
    "collapsed": false
   },
   "outputs": [
    {
     "data": {
      "text/plain": [
       "0.99998909921955026"
      ]
     },
     "execution_count": 3,
     "metadata": {},
     "output_type": "execute_result"
    }
   ],
   "source": [
    "from sklearn.linear_model import MultiTaskLasso\n",
    "MultiTaskLasso(alpha=.001).fit(X, Y).score(X, Y)"
   ]
  },
  {
   "cell_type": "code",
   "execution_count": 4,
   "metadata": {
    "collapsed": false
   },
   "outputs": [],
   "source": [
    "points = ul.mat2point(X,Y)\n",
    "dataRDD = sc.parallelize(points).mapPartitions(ul.point2mat)"
   ]
  },
  {
   "cell_type": "code",
   "execution_count": 5,
   "metadata": {
    "collapsed": false,
    "scrolled": true
   },
   "outputs": [
    {
     "data": {
      "text/plain": [
       "[array([[ 1.76405235,  0.40015721,  0.97873798,  2.2408932 ],\n",
       "        [ 1.86755799, -0.97727788,  0.95008842, -0.15135721]]),\n",
       " array([[ 0.14377827, -0.579834  , -0.26093079,  0.26925737, -0.93048297],\n",
       "        [ 0.12501844, -0.29203879, -0.65073588, -0.15719248, -0.09999714]])]"
      ]
     },
     "execution_count": 5,
     "metadata": {},
     "output_type": "execute_result"
    }
   ],
   "source": [
    "dataRDD.first()"
   ]
  },
  {
   "cell_type": "code",
   "execution_count": 6,
   "metadata": {
    "collapsed": false
   },
   "outputs": [
    {
     "data": {
      "text/plain": [
       "PythonRDD[2] at RDD at PythonRDD.scala:43"
      ]
     },
     "execution_count": 6,
     "metadata": {},
     "output_type": "execute_result"
    }
   ],
   "source": [
    "hashedDataRDD = dataRDD.map(ul.hashkey)\n",
    "hashedDataRDD"
   ]
  },
  {
   "cell_type": "code",
   "execution_count": 7,
   "metadata": {
    "collapsed": false
   },
   "outputs": [
    {
     "data": {
      "text/plain": [
       "(-4263895035619207593,\n",
       " [array([[ 1.76405235,  0.40015721,  0.97873798,  2.2408932 ],\n",
       "         [ 1.86755799, -0.97727788,  0.95008842, -0.15135721]]),\n",
       "  array([[ 0.14377827, -0.579834  , -0.26093079,  0.26925737, -0.93048297],\n",
       "         [ 0.12501844, -0.29203879, -0.65073588, -0.15719248, -0.09999714]])])"
      ]
     },
     "execution_count": 7,
     "metadata": {},
     "output_type": "execute_result"
    }
   ],
   "source": [
    "hashedDataRDD.first()"
   ]
  },
  {
   "cell_type": "code",
   "execution_count": 8,
   "metadata": {
    "collapsed": false,
    "scrolled": true
   },
   "outputs": [
    {
     "data": {
      "text/plain": [
       "PythonRDD[4] at RDD at PythonRDD.scala:43"
      ]
     },
     "execution_count": 8,
     "metadata": {},
     "output_type": "execute_result"
    }
   ],
   "source": [
    "modelRDD = hashedDataRDD.mapValues(pb.Model).persist()\n",
    "modelRDD"
   ]
  },
  {
   "cell_type": "code",
   "execution_count": 9,
   "metadata": {
    "collapsed": false
   },
   "outputs": [
    {
     "data": {
      "text/plain": [
       "[(-4263895035619207593, <mls.Model at 0x7f574c9a6390>),\n",
       " (-7129992736779873975, <mls.Model at 0x7f574c99ebe0>),\n",
       " (7894955917745079217, <mls.Model at 0x7f574c99ea90>),\n",
       " (3062070986511224413, <mls.Model at 0x7f574c96b278>),\n",
       " (-4793468373099478964, <mls.Model at 0x7f574c96b7f0>),\n",
       " (-3154666840363234380, <mls.Model at 0x7f574c96b828>),\n",
       " (8730318122229942956, <mls.Model at 0x7f574c96b860>),\n",
       " (-2422112472651632444, <mls.Model at 0x7f574c96b898>)]"
      ]
     },
     "execution_count": 9,
     "metadata": {},
     "output_type": "execute_result"
    }
   ],
   "source": [
    "modelRDD.collect()"
   ]
  },
  {
   "cell_type": "markdown",
   "metadata": {},
   "source": [
    "## Initialization"
   ]
  },
  {
   "cell_type": "code",
   "execution_count": 10,
   "metadata": {
    "collapsed": false
   },
   "outputs": [
    {
     "data": {
      "text/plain": [
       "PythonRDD[5] at RDD at PythonRDD.scala:43"
      ]
     },
     "execution_count": 10,
     "metadata": {},
     "output_type": "execute_result"
    }
   ],
   "source": [
    "np.random.seed(0)\n",
    "\n",
    "T = 30               # number of iterations of FW\n",
    "U = np.zeros((T,p))  # left singular vector\n",
    "V = np.zeros((T,m))  # right singular vector\n",
    "\n",
    "loss = np.zeros(T)\n",
    "\n",
    "paramRDD = modelRDD.mapValues(lambda x: pb.Param((x.p, x.m)))\n",
    "paramRDD"
   ]
  },
  {
   "cell_type": "code",
   "execution_count": 11,
   "metadata": {
    "collapsed": false,
    "scrolled": true
   },
   "outputs": [
    {
     "data": {
      "text/plain": [
       "[(-4263895035619207593, <mls.Param at 0x7f574ca0ae10>),\n",
       " (-7129992736779873975, <mls.Param at 0x7f574ca0ae80>),\n",
       " (7894955917745079217, <mls.Param at 0x7f574c99ed30>),\n",
       " (3062070986511224413, <mls.Param at 0x7f574c99efd0>),\n",
       " (-4793468373099478964, <mls.Param at 0x7f574c99eda0>),\n",
       " (-3154666840363234380, <mls.Param at 0x7f574c99ef28>),\n",
       " (8730318122229942956, <mls.Param at 0x7f574c99e5f8>),\n",
       " (-2422112472651632444, <mls.Param at 0x7f574c99ee10>)]"
      ]
     },
     "execution_count": 11,
     "metadata": {},
     "output_type": "execute_result"
    }
   ],
   "source": [
    "paramRDD.collect()"
   ]
  },
  {
   "cell_type": "code",
   "execution_count": 12,
   "metadata": {
    "collapsed": false,
    "scrolled": true
   },
   "outputs": [
    {
     "data": {
      "text/plain": [
       "array([[ 0.,  0.,  0.,  0.,  0.],\n",
       "       [ 0.,  0.,  0.,  0.,  0.],\n",
       "       [ 0.,  0.,  0.,  0.,  0.],\n",
       "       [ 0.,  0.,  0.,  0.,  0.]])"
      ]
     },
     "execution_count": 12,
     "metadata": {},
     "output_type": "execute_result"
    }
   ],
   "source": [
    "paramRDD.first()[1].W"
   ]
  },
  {
   "cell_type": "markdown",
   "metadata": {
    "collapsed": true
   },
   "source": [
    "## Subfunctions"
   ]
  },
  {
   "cell_type": "code",
   "execution_count": 13,
   "metadata": {
    "collapsed": false
   },
   "outputs": [
    {
     "data": {
      "text/plain": [
       "PythonRDD[14] at RDD at PythonRDD.scala:43"
      ]
     },
     "execution_count": 13,
     "metadata": {},
     "output_type": "execute_result"
    }
   ],
   "source": [
    "gradRDD = fw.gradient(paramRDD, modelRDD)\n",
    "gradRDD"
   ]
  },
  {
   "cell_type": "code",
   "execution_count": 14,
   "metadata": {
    "collapsed": false
   },
   "outputs": [
    {
     "data": {
      "text/plain": [
       "(-3154666840363234380,\n",
       " array([[-0.10089152, -0.24011634,  1.0154719 , -0.08271822,  0.00573742],\n",
       "        [-0.12307769, -0.32516214,  1.27095607, -0.11758494,  0.00536778],\n",
       "        [-0.18694472, -0.39076385,  1.82754819, -0.12526168,  0.01337085],\n",
       "        [ 0.17852578,  0.44671054, -1.81864579,  0.15765856, -0.00904789]]))"
      ]
     },
     "execution_count": 14,
     "metadata": {},
     "output_type": "execute_result"
    }
   ],
   "source": [
    "gradRDD.first()"
   ]
  },
  {
   "cell_type": "code",
   "execution_count": 15,
   "metadata": {
    "collapsed": false
   },
   "outputs": [
    {
     "data": {
      "text/plain": [
       "(array([ 1.        ,  0.25811172,  0.34515718,  0.17857333]),\n",
       " array([-0.20328427,  0.32771366,  1.        , -0.30466848,  0.82997534]))"
      ]
     },
     "execution_count": 15,
     "metadata": {},
     "output_type": "execute_result"
    }
   ],
   "source": [
    "fw.centralize(gradRDD, 1)"
   ]
  },
  {
   "cell_type": "code",
   "execution_count": 16,
   "metadata": {
    "collapsed": false
   },
   "outputs": [
    {
     "data": {
      "text/plain": [
       "(-3154666840363234380,\n",
       " (array([-0.55709145, -0.70062551, -0.99693171,  1.        ]),\n",
       "  array([ 0.09954048,  0.23502357, -1.        ,  0.08063955, -0.00575557])))"
      ]
     },
     "execution_count": 16,
     "metadata": {},
     "output_type": "execute_result"
    }
   ],
   "source": [
    "fw.warmstart(gradRDD).first()"
   ]
  },
  {
   "cell_type": "code",
   "execution_count": 17,
   "metadata": {
    "collapsed": false,
    "scrolled": false
   },
   "outputs": [
    {
     "data": {
      "text/plain": [
       "[(array([-0.55709145, -0.70062551, -0.99693171,  1.        ]),\n",
       "  array([ 0.09954048,  0.23502357, -1.        ,  0.08063955, -0.00575557])),\n",
       " (array([ 0.37095484,  0.17447088,  0.51249097,  1.        ]),\n",
       "  array([-0.13899444,  0.72134634,  0.06371089, -0.24337997,  1.        ])),\n",
       " (array([ 1.        , -0.2217441 , -0.18032229,  0.04169703]),\n",
       "  array([-0.19114083,  0.30436118,  1.        , -0.15622772,  0.5959531 ])),\n",
       " (array([ 0.13361309,  0.2895    ,  0.20615412,  1.        ]),\n",
       "  array([-0.07259322,  0.56050784, -0.29242015, -0.3681458 ,  1.        ])),\n",
       " (array([ 1.        , -0.01506649,  0.53996012,  0.83451796]),\n",
       "  array([-0.2152368 ,  0.75045659,  0.62549263, -0.18622991,  1.        ])),\n",
       " (array([ 0.63569494,  1.        ,  0.0133302 , -0.1351764 ]),\n",
       "  array([-0.07706299, -0.37436844,  0.66086573, -0.88320207,  1.        ])),\n",
       " (array([ 1.        , -0.00489197,  0.05233511,  0.04840565]),\n",
       "  array([-0.18627935,  0.28941065,  1.        , -0.11290357,  0.52038693])),\n",
       " (array([ 1.        ,  0.39655174,  0.49415381, -0.31246663]),\n",
       "  array([-0.15137817,  0.03015541,  1.        , -0.23858472,  0.4693679 ]))]"
      ]
     },
     "execution_count": 17,
     "metadata": {},
     "output_type": "execute_result"
    }
   ],
   "source": [
    "fw.warmstart(gradRDD).values().collect()"
   ]
  },
  {
   "cell_type": "code",
   "execution_count": 18,
   "metadata": {
    "collapsed": false
   },
   "outputs": [
    {
     "data": {
      "text/plain": [
       "(array([ 4.58317143,  0.91819453,  0.64117031,  3.47697762]),\n",
       " array([-0.93314531,  2.51689314,  3.0576491 , -2.10803424,  5.57995236]))"
      ]
     },
     "execution_count": 18,
     "metadata": {},
     "output_type": "execute_result"
    }
   ],
   "source": [
    "fw.avgmix(gradRDD, 1)"
   ]
  },
  {
   "cell_type": "code",
   "execution_count": 19,
   "metadata": {
    "collapsed": false
   },
   "outputs": [
    {
     "data": {
      "text/plain": [
       "[array([ 0.09954048,  0.23502357, -1.        ,  0.08063955, -0.00575557]),\n",
       " array([-0.13899444,  0.72134634,  0.06371089, -0.24337997,  1.        ]),\n",
       " array([-0.19114083,  0.30436118,  1.        , -0.15622772,  0.5959531 ]),\n",
       " array([-0.07259322,  0.56050784, -0.29242015, -0.3681458 ,  1.        ]),\n",
       " array([-0.2152368 ,  0.75045659,  0.62549263, -0.18622991,  1.        ]),\n",
       " array([-0.07706299, -0.37436844,  0.66086573, -0.88320207,  1.        ]),\n",
       " array([-0.18627935,  0.28941065,  1.        , -0.11290357,  0.52038693]),\n",
       " array([-0.15137817,  0.03015541,  1.        , -0.23858472,  0.4693679 ])]"
      ]
     },
     "execution_count": 19,
     "metadata": {},
     "output_type": "execute_result"
    }
   ],
   "source": [
    "fw.warmstart(gradRDD).map(lambda x: x[1][1]).collect()"
   ]
  },
  {
   "cell_type": "code",
   "execution_count": 20,
   "metadata": {
    "collapsed": false
   },
   "outputs": [
    {
     "data": {
      "text/plain": [
       "array([-0.93314531,  2.51689314,  3.0576491 , -2.10803424,  5.57995236])"
      ]
     },
     "execution_count": 20,
     "metadata": {},
     "output_type": "execute_result"
    }
   ],
   "source": [
    "fw.warmstart(gradRDD).map(lambda x: x[1][1]).reduce(lambda x,y: x+y)"
   ]
  },
  {
   "cell_type": "code",
   "execution_count": 21,
   "metadata": {
    "collapsed": false
   },
   "outputs": [
    {
     "data": {
      "text/plain": [
       "(array([ 0.90623305,  0.23390941,  0.31279283,  0.16182922]),\n",
       " array([-0.14631196,  0.23586888,  0.71974062, -0.21928231,  0.59736705]))"
      ]
     },
     "execution_count": 21,
     "metadata": {},
     "output_type": "execute_result"
    }
   ],
   "source": [
    "fw.poweriter(gradRDD, 0, lambda t: 10)"
   ]
  },
  {
   "cell_type": "code",
   "execution_count": 22,
   "metadata": {
    "collapsed": false,
    "scrolled": true
   },
   "outputs": [
    {
     "data": {
      "text/plain": [
       "array([1, 1, 1, 1, 1, 1, 1, 1, 1, 1, 2, 2, 2, 2, 2, 2, 2, 2, 2, 2, 2, 2, 2,\n",
       "       2, 2, 2, 2, 2, 2, 2, 2, 2, 2, 2, 2, 2, 2, 2, 2, 2, 2, 2, 2, 2, 2, 2,\n",
       "       2, 2, 2, 2, 2, 2, 2, 2, 2, 2, 2, 2, 2, 2, 2, 2, 2, 2, 2, 2, 2, 2, 2,\n",
       "       2, 2, 2, 2, 2, 2, 2, 2, 2, 2, 2, 2, 2, 2, 2, 2, 2, 2, 2, 2, 2, 2, 2,\n",
       "       2, 2, 2, 2, 2, 2, 2, 2, 3])"
      ]
     },
     "execution_count": 22,
     "metadata": {},
     "output_type": "execute_result"
    }
   ],
   "source": [
    "np.array([fw.loground(i) for i in range(101)])"
   ]
  },
  {
   "cell_type": "code",
   "execution_count": 23,
   "metadata": {
    "collapsed": false
   },
   "outputs": [
    {
     "data": {
      "text/plain": [
       "(array([ 1.        ,  0.25811172,  0.34515718,  0.17857333]),\n",
       " array([-0.20328427,  0.32771366,  1.        , -0.30466848,  0.82997534]))"
      ]
     },
     "execution_count": 23,
     "metadata": {},
     "output_type": "execute_result"
    }
   ],
   "source": [
    "u, v = fw.centralize(gradRDD)\n",
    "u, v"
   ]
  },
  {
   "cell_type": "code",
   "execution_count": 24,
   "metadata": {
    "collapsed": false
   },
   "outputs": [
    {
     "data": {
      "text/plain": [
       "(array([-0.90623308, -0.23390938, -0.31279286, -0.16182906]),\n",
       " array([-0.14631196,  0.23586885,  0.71974067, -0.2192823 ,  0.59736701]))"
      ]
     },
     "execution_count": 24,
     "metadata": {},
     "output_type": "execute_result"
    }
   ],
   "source": [
    "u, v = fw.regularize(u, v, 1)\n",
    "u, v"
   ]
  },
  {
   "cell_type": "code",
   "execution_count": 25,
   "metadata": {
    "collapsed": false
   },
   "outputs": [
    {
     "data": {
      "text/plain": [
       "array([[ 0.13259274, -0.21375215, -0.6522528 ,  0.19872087, -0.54135374],\n",
       "       [ 0.03422374, -0.05517194, -0.16835409,  0.05129219, -0.13972974],\n",
       "       [ 0.04576534, -0.07377809, -0.22512974,  0.06858994, -0.18685213],\n",
       "       [ 0.02367753, -0.03817043, -0.11647496,  0.03548625, -0.09667134]])"
      ]
     },
     "execution_count": 25,
     "metadata": {},
     "output_type": "execute_result"
    }
   ],
   "source": [
    "paramRDD = fw.broadcast(paramRDD, u, v)\n",
    "paramRDD.values().first().D"
   ]
  },
  {
   "cell_type": "code",
   "execution_count": 26,
   "metadata": {
    "collapsed": false
   },
   "outputs": [
    {
     "data": {
      "text/plain": [
       "array([[ 0.13259274, -0.21375215, -0.6522528 ,  0.19872087, -0.54135374],\n",
       "       [ 0.03422374, -0.05517194, -0.16835409,  0.05129219, -0.13972974],\n",
       "       [ 0.04576534, -0.07377809, -0.22512974,  0.06858994, -0.18685213],\n",
       "       [ 0.02367753, -0.03817043, -0.11647496,  0.03548625, -0.09667134]])"
      ]
     },
     "execution_count": 26,
     "metadata": {},
     "output_type": "execute_result"
    }
   ],
   "source": [
    "np.outer(u,v)"
   ]
  },
  {
   "cell_type": "code",
   "execution_count": 27,
   "metadata": {
    "collapsed": false
   },
   "outputs": [
    {
     "data": {
      "text/plain": [
       "3.5450419508245972"
      ]
     },
     "execution_count": 27,
     "metadata": {},
     "output_type": "execute_result"
    }
   ],
   "source": [
    "fw.loss(paramRDD, modelRDD)"
   ]
  },
  {
   "cell_type": "code",
   "execution_count": 28,
   "metadata": {
    "collapsed": false
   },
   "outputs": [
    {
     "data": {
      "text/plain": [
       "1.0"
      ]
     },
     "execution_count": 28,
     "metadata": {},
     "output_type": "execute_result"
    }
   ],
   "source": [
    "paramRDD, _ = fw.naivestep(paramRDD)\n",
    "paramRDD.values().first().a"
   ]
  },
  {
   "cell_type": "code",
   "execution_count": 29,
   "metadata": {
    "collapsed": false
   },
   "outputs": [
    {
     "data": {
      "text/plain": [
       "array([[ 0.13259274, -0.21375215, -0.6522528 ,  0.19872087, -0.54135374],\n",
       "       [ 0.03422374, -0.05517194, -0.16835409,  0.05129219, -0.13972974],\n",
       "       [ 0.04576534, -0.07377809, -0.22512974,  0.06858994, -0.18685213],\n",
       "       [ 0.02367753, -0.03817043, -0.11647496,  0.03548625, -0.09667134]])"
      ]
     },
     "execution_count": 29,
     "metadata": {},
     "output_type": "execute_result"
    }
   ],
   "source": [
    "paramRDD = fw.descent(paramRDD)\n",
    "paramRDD.values().first().W"
   ]
  },
  {
   "cell_type": "code",
   "execution_count": 30,
   "metadata": {
    "collapsed": false
   },
   "outputs": [
    {
     "data": {
      "text/plain": [
       "8.0467309691748863"
      ]
     },
     "execution_count": 30,
     "metadata": {},
     "output_type": "execute_result"
    }
   ],
   "source": [
    "fw.loss(paramRDD, modelRDD)"
   ]
  },
  {
   "cell_type": "code",
   "execution_count": 31,
   "metadata": {
    "collapsed": false
   },
   "outputs": [
    {
     "data": {
      "text/plain": [
       "array([[ 0.,  0.,  0.,  0.,  0.],\n",
       "       [ 0.,  0.,  0.,  0.,  0.],\n",
       "       [ 0.,  0.,  0.,  0.,  0.],\n",
       "       [ 0.,  0.,  0.,  0.,  0.]])"
      ]
     },
     "execution_count": 31,
     "metadata": {},
     "output_type": "execute_result"
    }
   ],
   "source": [
    "paramRDD = fw.ascent(paramRDD)\n",
    "paramRDD.values().first().W"
   ]
  },
  {
   "cell_type": "code",
   "execution_count": 32,
   "metadata": {
    "collapsed": false
   },
   "outputs": [
    {
     "data": {
      "text/plain": [
       "3.5450419508245972"
      ]
     },
     "execution_count": 32,
     "metadata": {},
     "output_type": "execute_result"
    }
   ],
   "source": [
    "fw.loss(paramRDD, modelRDD)"
   ]
  },
  {
   "cell_type": "code",
   "execution_count": 33,
   "metadata": {
    "collapsed": false
   },
   "outputs": [
    {
     "data": {
      "text/plain": [
       "0.36223180305110358"
      ]
     },
     "execution_count": 33,
     "metadata": {},
     "output_type": "execute_result"
    }
   ],
   "source": [
    "paramRDD, _ = fw.linearsearch(paramRDD, modelRDD, gradRDD)\n",
    "paramRDD.values().first().a"
   ]
  },
  {
   "cell_type": "code",
   "execution_count": 34,
   "metadata": {
    "collapsed": false
   },
   "outputs": [
    {
     "data": {
      "text/plain": [
       "array([[ 0.04802931, -0.07742783, -0.23626671,  0.07198302, -0.19609554],\n",
       "       [ 0.01239693, -0.01998503, -0.06098321,  0.01857966, -0.05061456],\n",
       "       [ 0.01657766, -0.02672477, -0.08154915,  0.02484546, -0.06768378],\n",
       "       [ 0.00857675, -0.01382655, -0.04219093,  0.01285425, -0.03501743]])"
      ]
     },
     "execution_count": 34,
     "metadata": {},
     "output_type": "execute_result"
    }
   ],
   "source": [
    "paramRDD = fw.descent(paramRDD)\n",
    "paramRDD.values().first().W"
   ]
  },
  {
   "cell_type": "code",
   "execution_count": 35,
   "metadata": {
    "collapsed": false
   },
   "outputs": [
    {
     "data": {
      "text/plain": [
       "1.4013139769868053"
      ]
     },
     "execution_count": 35,
     "metadata": {},
     "output_type": "execute_result"
    }
   ],
   "source": [
    "fw.loss(paramRDD, modelRDD)"
   ]
  },
  {
   "cell_type": "code",
   "execution_count": 36,
   "metadata": {
    "collapsed": false
   },
   "outputs": [
    {
     "data": {
      "text/plain": [
       "array([[ 0.,  0.,  0.,  0.,  0.],\n",
       "       [ 0.,  0.,  0.,  0.,  0.],\n",
       "       [ 0.,  0.,  0.,  0.,  0.],\n",
       "       [ 0.,  0.,  0.,  0.,  0.]])"
      ]
     },
     "execution_count": 36,
     "metadata": {},
     "output_type": "execute_result"
    }
   ],
   "source": [
    "paramRDD = fw.ascent(paramRDD)\n",
    "paramRDD.values().first().W"
   ]
  },
  {
   "cell_type": "markdown",
   "metadata": {},
   "source": [
    "## Main function"
   ]
  },
  {
   "cell_type": "code",
   "execution_count": 37,
   "metadata": {
    "collapsed": false
   },
   "outputs": [
    {
     "data": {
      "text/plain": [
       "(PythonRDD[112] at RDD at PythonRDD.scala:43,\n",
       " (array([-0.90623308, -0.23390938, -0.31279286, -0.16182906]),\n",
       "  array([-0.14631196,  0.23586885,  0.71974067, -0.2192823 ,  0.59736701])),\n",
       " None,\n",
       " 8.0467309691750746)"
      ]
     },
     "execution_count": 37,
     "metadata": {},
     "output_type": "execute_result"
    }
   ],
   "source": [
    "np.random.seed(0)\n",
    "paramRDD = modelRDD.mapValues(lambda x: pb.Param((x.p, x.m)))\n",
    "fw.iterate(modelRDD, paramRDD, fw.centralize, fw.naivestep, 1, 0)"
   ]
  },
  {
   "cell_type": "code",
   "execution_count": 38,
   "metadata": {
    "collapsed": false
   },
   "outputs": [
    {
     "data": {
      "text/plain": [
       "(PythonRDD[140] at RDD at PythonRDD.scala:43,\n",
       " (array([-0.90623308, -0.23390938, -0.31279286, -0.16182906]),\n",
       "  array([-0.14631196,  0.23586885,  0.71974067, -0.2192823 ,  0.59736701])),\n",
       " 0.36223180305109948,\n",
       " 1.4013139769868306)"
      ]
     },
     "execution_count": 38,
     "metadata": {},
     "output_type": "execute_result"
    }
   ],
   "source": [
    "np.random.seed(0)\n",
    "paramRDD = modelRDD.mapValues(lambda x: pb.Param((x.p, x.m)))\n",
    "fw.iterate(modelRDD, paramRDD, fw.centralize, fw.linearsearch, 1, 0)"
   ]
  },
  {
   "cell_type": "code",
   "execution_count": 39,
   "metadata": {
    "collapsed": false
   },
   "outputs": [
    {
     "data": {
      "text/plain": [
       "(PythonRDD[168] at RDD at PythonRDD.scala:43,\n",
       " (array([-0.78200398, -0.15666701, -0.10939973, -0.59325958]),\n",
       "  array([-0.12923706,  0.34858008,  0.42347271, -0.29195468,  0.77280207])),\n",
       " 0.37611883793393758,\n",
       " 1.5641803468134916)"
      ]
     },
     "execution_count": 39,
     "metadata": {},
     "output_type": "execute_result"
    }
   ],
   "source": [
    "np.random.seed(0)\n",
    "paramRDD = modelRDD.mapValues(lambda x: pb.Param((x.p, x.m)))\n",
    "fw.iterate(modelRDD, paramRDD, fw.avgmix, fw.linearsearch, 1, 0)"
   ]
  },
  {
   "cell_type": "code",
   "execution_count": 40,
   "metadata": {
    "collapsed": false
   },
   "outputs": [
    {
     "data": {
      "text/plain": [
       "(PythonRDD[198] at RDD at PythonRDD.scala:43,\n",
       " (array([-0.86045553, -0.26912754, -0.28295946, -0.32729282]),\n",
       "  array([-0.14449102,  0.26663882,  0.66123032, -0.2367075 ,  0.64402648])),\n",
       " 0.37152312844346974,\n",
       " 1.3736294153066615)"
      ]
     },
     "execution_count": 40,
     "metadata": {},
     "output_type": "execute_result"
    }
   ],
   "source": [
    "np.random.seed(0)\n",
    "paramRDD = modelRDD.mapValues(lambda x: pb.Param((x.p, x.m)))\n",
    "fw.iterate(modelRDD, paramRDD, lambda x,t: fw.poweriter(x,t,lambda t: 1), fw.linearsearch, 1, 0)"
   ]
  },
  {
   "cell_type": "code",
   "execution_count": 41,
   "metadata": {
    "collapsed": false
   },
   "outputs": [
    {
     "data": {
      "text/plain": [
       "(PythonRDD[266] at RDD at PythonRDD.scala:43,\n",
       " (array([-0.90623308, -0.23390938, -0.31279286, -0.16182906]),\n",
       "  array([-0.14631196,  0.23586885,  0.71974067, -0.2192823 ,  0.59736701])),\n",
       " 0.36223180305110025,\n",
       " 1.4013139769868255)"
      ]
     },
     "execution_count": 41,
     "metadata": {},
     "output_type": "execute_result"
    }
   ],
   "source": [
    "np.random.seed(0)\n",
    "paramRDD = modelRDD.mapValues(lambda x: pb.Param((x.p, x.m)))\n",
    "fw.iterate(modelRDD, paramRDD, lambda x,t: fw.poweriter(x,t,lambda t: 20), fw.linearsearch, 1, 0)"
   ]
  },
  {
   "cell_type": "code",
   "execution_count": 42,
   "metadata": {
    "collapsed": false
   },
   "outputs": [
    {
     "data": {
      "text/plain": [
       "(PythonRDD[296] at RDD at PythonRDD.scala:43,\n",
       " (array([-0.86045553, -0.26912754, -0.28295946, -0.32729282]),\n",
       "  array([-0.14449102,  0.26663882,  0.66123032, -0.2367075 ,  0.64402648])),\n",
       " 0.37152312844191421,\n",
       " 1.373629415310659)"
      ]
     },
     "execution_count": 42,
     "metadata": {},
     "output_type": "execute_result"
    }
   ],
   "source": [
    "np.random.seed(0)\n",
    "paramRDD = modelRDD.mapValues(lambda x: pb.Param((x.p, x.m)))\n",
    "fw.iterate(modelRDD, paramRDD, lambda x,t: fw.poweriter(x,t,fw.loground), fw.linearsearch, 1, 0)"
   ]
  },
  {
   "cell_type": "code",
   "execution_count": 43,
   "metadata": {
    "collapsed": false
   },
   "outputs": [
    {
     "data": {
      "text/plain": [
       "(PythonRDD[325] at RDD at PythonRDD.scala:43,\n",
       " (array([-0.9026204 ,  0.02944333, -0.33004593, -0.27473475]),\n",
       "  array([-0.15336388,  0.30672282,  0.70536436, -0.17475036,  0.59525126])),\n",
       " 0.36056184581770484,\n",
       " 1.4916671912009316)"
      ]
     },
     "execution_count": 43,
     "metadata": {},
     "output_type": "execute_result"
    }
   ],
   "source": [
    "np.random.seed(0)\n",
    "v0 = np.random.randn(m)\n",
    "np.random.seed(0)\n",
    "paramRDD = modelRDD.mapValues(lambda x: pb.Param((x.p, x.m)))\n",
    "fw.iterate(modelRDD, paramRDD, lambda x,t: fw.poweriter(x,t,fw.loground,v0), fw.linearsearch, 1, 0)"
   ]
  },
  {
   "cell_type": "code",
   "execution_count": null,
   "metadata": {
    "collapsed": true
   },
   "outputs": [],
   "source": []
  }
 ],
 "metadata": {
  "kernelspec": {
   "display_name": "Python 3",
   "language": "python",
   "name": "python3"
  },
  "language_info": {
   "codemirror_mode": {
    "name": "ipython",
    "version": 3
   },
   "file_extension": ".py",
   "mimetype": "text/x-python",
   "name": "python",
   "nbconvert_exporter": "python",
   "pygments_lexer": "ipython3",
   "version": "3.5.1"
  }
 },
 "nbformat": 4,
 "nbformat_minor": 0
}

{
 "cells": [
  {
   "cell_type": "code",
   "execution_count": 1,
   "metadata": {
    "collapsed": false
   },
   "outputs": [],
   "source": [
    "from imp import reload\n",
    "import utils as ul\n",
    "from mlr import Model as MD\n",
    "import fw\n",
    "#import park as sc\n",
    "import numpy as np"
   ]
  },
  {
   "cell_type": "markdown",
   "metadata": {},
   "source": [
    "## Data generation"
   ]
  },
  {
   "cell_type": "code",
   "execution_count": 20,
   "metadata": {
    "collapsed": false
   },
   "outputs": [],
   "source": [
    "## X: n*p  W: p*m  Y: n*m\n",
    "np.random.seed(0)\n",
    "X, y, W = MD.generate(n = 16)\n",
    "n = X.shape[0]\n",
    "m = W.shape[1]\n",
    "p = X.shape[1]"
   ]
  },
  {
   "cell_type": "code",
   "execution_count": 3,
   "metadata": {
    "collapsed": false,
    "scrolled": true
   },
   "outputs": [
    {
     "data": {
      "text/plain": [
       "0.55115487849365286"
      ]
     },
     "execution_count": 3,
     "metadata": {},
     "output_type": "execute_result"
    }
   ],
   "source": [
    "from sklearn.linear_model import MultiTaskLasso\n",
    "MultiTaskLasso(alpha=.001).fit(X, y).score(X, y)"
   ]
  },
  {
   "cell_type": "code",
   "execution_count": 34,
   "metadata": {
    "collapsed": false
   },
   "outputs": [],
   "source": [
    "points = ul.mat2point(X,y)\n",
    "dataRDD = sc.parallelize(points,8).mapPartitions(ul.point2mat)"
   ]
  },
  {
   "cell_type": "code",
   "execution_count": 35,
   "metadata": {
    "collapsed": false,
    "scrolled": true
   },
   "outputs": [
    {
     "data": {
      "text/plain": [
       "[array([[ 1.76405235,  0.40015721,  0.97873798,  2.2408932 ],\n",
       "        [ 1.86755799, -0.97727788,  0.95008842, -0.15135721]]),\n",
       " array([[0, 0, 0, 1, 0],\n",
       "        [1, 0, 0, 0, 0]])]"
      ]
     },
     "execution_count": 35,
     "metadata": {},
     "output_type": "execute_result"
    }
   ],
   "source": [
    "dataRDD.first()"
   ]
  },
  {
   "cell_type": "code",
   "execution_count": 36,
   "metadata": {
    "collapsed": false,
    "scrolled": true
   },
   "outputs": [
    {
     "data": {
      "text/plain": [
       "dataRDD PythonRDD[27] at RDD at PythonRDD.scala:43"
      ]
     },
     "execution_count": 36,
     "metadata": {},
     "output_type": "execute_result"
    }
   ],
   "source": [
    "dataRDD = dataRDD.map(fw.row_data).setName('dataRDD').persist()\n",
    "dataRDD"
   ]
  },
  {
   "cell_type": "code",
   "execution_count": 37,
   "metadata": {
    "collapsed": false
   },
   "outputs": [
    {
     "data": {
      "text/plain": [
       "{'X': array([[ 1.76405235,  0.40015721,  0.97873798,  2.2408932 ],\n",
       "        [ 1.86755799, -0.97727788,  0.95008842, -0.15135721]]),\n",
       " 'Y': array([[0, 0, 0, 1, 0],\n",
       "        [1, 0, 0, 0, 0]]),\n",
       " 'm': 5,\n",
       " 'n': 2,\n",
       " 'p': 4}"
      ]
     },
     "execution_count": 37,
     "metadata": {},
     "output_type": "execute_result"
    }
   ],
   "source": [
    "dataRDD.first()"
   ]
  },
  {
   "cell_type": "code",
   "execution_count": 25,
   "metadata": {
    "collapsed": true
   },
   "outputs": [],
   "source": [
    "def score2class(z):\n",
    "    z['Y'] = MD.score2class(z['Y'])\n",
    "    return z"
   ]
  },
  {
   "cell_type": "code",
   "execution_count": 26,
   "metadata": {
    "collapsed": false
   },
   "outputs": [
    {
     "data": {
      "text/plain": [
       "dataRDD PythonRDD[18] at RDD at PythonRDD.scala:43"
      ]
     },
     "execution_count": 26,
     "metadata": {},
     "output_type": "execute_result"
    }
   ],
   "source": [
    "dataRDD = dataRDD.map(score2class).setName('dataRDD').persist()\n",
    "dataRDD"
   ]
  },
  {
   "cell_type": "code",
   "execution_count": 27,
   "metadata": {
    "collapsed": false
   },
   "outputs": [
    {
     "data": {
      "text/plain": [
       "{'X': array([[ 1.76405235,  0.40015721,  0.97873798,  2.2408932 ],\n",
       "        [ 1.86755799, -0.97727788,  0.95008842, -0.15135721]]),\n",
       " 'Y': array([3, 0]),\n",
       " 'm': 5,\n",
       " 'n': 2,\n",
       " 'p': 4}"
      ]
     },
     "execution_count": 27,
     "metadata": {},
     "output_type": "execute_result"
    }
   ],
   "source": [
    "dataRDD.first()"
   ]
  },
  {
   "cell_type": "markdown",
   "metadata": {},
   "source": [
    "## Initialization"
   ]
  },
  {
   "cell_type": "code",
   "execution_count": 38,
   "metadata": {
    "collapsed": true
   },
   "outputs": [],
   "source": [
    "np.random.seed(0)\n",
    "\n",
    "T = 30               # number of iterations of FW\n",
    "U = np.zeros((T,p))  # left singular vector\n",
    "V = np.zeros((T,m))  # right singular vector\n",
    "\n",
    "loss = np.zeros(T)"
   ]
  },
  {
   "cell_type": "code",
   "execution_count": 39,
   "metadata": {
    "collapsed": false
   },
   "outputs": [
    {
     "data": {
      "text/plain": [
       "PythonRDD[29] at RDD at PythonRDD.scala:43"
      ]
     },
     "execution_count": 39,
     "metadata": {},
     "output_type": "execute_result"
    }
   ],
   "source": [
    "rdd = dataRDD.map(fw.row_param)\n",
    "rdd"
   ]
  },
  {
   "cell_type": "code",
   "execution_count": 40,
   "metadata": {
    "collapsed": false
   },
   "outputs": [
    {
     "data": {
      "text/plain": [
       "{'W': array([[ 0.,  0.,  0.,  0.,  0.],\n",
       "        [ 0.,  0.,  0.,  0.,  0.],\n",
       "        [ 0.,  0.,  0.,  0.,  0.],\n",
       "        [ 0.,  0.,  0.,  0.,  0.]]),\n",
       " 'X': array([[ 1.76405235,  0.40015721,  0.97873798,  2.2408932 ],\n",
       "        [ 1.86755799, -0.97727788,  0.95008842, -0.15135721]]),\n",
       " 'Y': array([[0, 0, 0, 1, 0],\n",
       "        [1, 0, 0, 0, 0]]),\n",
       " 'm': 5,\n",
       " 'n': 2,\n",
       " 'p': 4,\n",
       " 't': 0}"
      ]
     },
     "execution_count": 40,
     "metadata": {},
     "output_type": "execute_result"
    }
   ],
   "source": [
    "rdd.first()"
   ]
  },
  {
   "cell_type": "markdown",
   "metadata": {
    "collapsed": true
   },
   "source": [
    "## Subfunctions"
   ]
  },
  {
   "cell_type": "code",
   "execution_count": 41,
   "metadata": {
    "collapsed": false,
    "scrolled": true
   },
   "outputs": [
    {
     "data": {
      "text/plain": [
       "withGradient PythonRDD[31] at RDD at PythonRDD.scala:43"
      ]
     },
     "execution_count": 41,
     "metadata": {},
     "output_type": "execute_result"
    }
   ],
   "source": [
    "rdd = fw.gradient(rdd, MD)\n",
    "rdd"
   ]
  },
  {
   "cell_type": "code",
   "execution_count": 43,
   "metadata": {
    "collapsed": false
   },
   "outputs": [
    {
     "data": {
      "text/plain": [
       "array([[-1.14123592,  0.72632207,  0.72632207, -1.03773028,  0.72632207],\n",
       "       [ 0.86185375, -0.11542413, -0.11542413, -0.51558134, -0.11542413],\n",
       "       [-0.56432314,  0.38576528,  0.38576528, -0.5929727 ,  0.38576528],\n",
       "       [ 0.56926441,  0.4179072 ,  0.4179072 , -1.822986  ,  0.4179072 ]])"
      ]
     },
     "execution_count": 43,
     "metadata": {},
     "output_type": "execute_result"
    }
   ],
   "source": [
    "rdd.first()['grad']"
   ]
  },
  {
   "cell_type": "code",
   "execution_count": 44,
   "metadata": {
    "collapsed": false
   },
   "outputs": [
    {
     "data": {
      "text/plain": [
       "(array([ 1.        ,  0.20060436,  0.354374  , -0.1545394 ]),\n",
       " array([-0.70897714,  0.03078158,  1.        , -0.73329464,  0.41149019]))"
      ]
     },
     "execution_count": 44,
     "metadata": {},
     "output_type": "execute_result"
    }
   ],
   "source": [
    "fw.centralize(rdd)"
   ]
  },
  {
   "cell_type": "code",
   "execution_count": 45,
   "metadata": {
    "collapsed": false
   },
   "outputs": [
    {
     "data": {
      "text/plain": [
       "{'W': array([[ 0.,  0.,  0.,  0.,  0.],\n",
       "        [ 0.,  0.,  0.,  0.,  0.],\n",
       "        [ 0.,  0.,  0.,  0.,  0.],\n",
       "        [ 0.,  0.,  0.,  0.,  0.]]),\n",
       " 'X': array([[ 1.76405235,  0.40015721,  0.97873798,  2.2408932 ],\n",
       "        [ 1.86755799, -0.97727788,  0.95008842, -0.15135721]]),\n",
       " 'Y': array([[0, 0, 0, 1, 0],\n",
       "        [1, 0, 0, 0, 0]]),\n",
       " 'grad': array([[-1.14123592,  0.72632207,  0.72632207, -1.03773028,  0.72632207],\n",
       "        [ 0.86185375, -0.11542413, -0.11542413, -0.51558134, -0.11542413],\n",
       "        [-0.56432314,  0.38576528,  0.38576528, -0.5929727 ,  0.38576528],\n",
       "        [ 0.56926441,  0.4179072 ,  0.4179072 , -1.822986  ,  0.4179072 ]]),\n",
       " 'm': 5,\n",
       " 'n': 2,\n",
       " 'p': 4,\n",
       " 't': 0,\n",
       " 'u': array([ 1.        ,  0.06239289,  0.54471949,  0.97406035]),\n",
       " 'v': array([-0.26521556,  0.42173852,  0.42173852, -1.        ,  0.42173852])}"
      ]
     },
     "execution_count": 45,
     "metadata": {},
     "output_type": "execute_result"
    }
   ],
   "source": [
    "fw.warmstart(rdd).first()"
   ]
  },
  {
   "cell_type": "code",
   "execution_count": 48,
   "metadata": {
    "collapsed": false
   },
   "outputs": [
    {
     "data": {
      "text/plain": [
       "(array([ 5.47157215,  1.31256375,  2.44970703,  1.55202166]),\n",
       " array([-2.62817233,  0.18330323,  2.31430016, -2.7032532 ,  2.83382214]))"
      ]
     },
     "execution_count": 48,
     "metadata": {},
     "output_type": "execute_result"
    }
   ],
   "source": [
    "fw.avgmix(rdd)"
   ]
  },
  {
   "cell_type": "code",
   "execution_count": 49,
   "metadata": {
    "collapsed": false
   },
   "outputs": [
    {
     "data": {
      "text/plain": [
       "(array([ 0.91681161,  0.18392373,  0.32489397, -0.14167726]),\n",
       " array([-0.47683778,  0.02070286,  0.67257329, -0.49319938,  0.27676101]))"
      ]
     },
     "execution_count": 49,
     "metadata": {},
     "output_type": "execute_result"
    }
   ],
   "source": [
    "fw.poweriter(rdd, lambda t: 10)"
   ]
  },
  {
   "cell_type": "code",
   "execution_count": null,
   "metadata": {
    "collapsed": false,
    "scrolled": true
   },
   "outputs": [],
   "source": [
    "np.array([fw.loground(i) for i in range(101)])"
   ]
  },
  {
   "cell_type": "code",
   "execution_count": 50,
   "metadata": {
    "collapsed": false
   },
   "outputs": [
    {
     "data": {
      "text/plain": [
       "(array([ 1.        ,  0.20060436,  0.354374  , -0.15453941]),\n",
       " array([-0.70897714,  0.03078158,  1.        , -0.73329464,  0.41149019]))"
      ]
     },
     "execution_count": 50,
     "metadata": {},
     "output_type": "execute_result"
    }
   ],
   "source": [
    "u, v = fw.centralize(rdd)\n",
    "u, v"
   ]
  },
  {
   "cell_type": "code",
   "execution_count": 51,
   "metadata": {
    "collapsed": false
   },
   "outputs": [
    {
     "data": {
      "text/plain": [
       "(array([-0.91681196, -0.18391648, -0.32489432,  0.14168358]),\n",
       " array([-0.47684045,  0.02070293,  0.67257522, -0.4931958 ,  0.27675811]))"
      ]
     },
     "execution_count": 51,
     "metadata": {},
     "output_type": "execute_result"
    }
   ],
   "source": [
    "u, v = fw.regularize(u, v, 1)\n",
    "u, v"
   ]
  },
  {
   "cell_type": "code",
   "execution_count": 52,
   "metadata": {
    "collapsed": false
   },
   "outputs": [
    {
     "data": {
      "text/plain": [
       "array([[ 0.43717303, -0.01898069, -0.616625  ,  0.45216781, -0.25373514],\n",
       "       [ 0.08769882, -0.00380761, -0.12369767,  0.09070684, -0.05090038],\n",
       "       [ 0.15492276, -0.00672626, -0.21851587,  0.16023652, -0.08991714],\n",
       "       [-0.06756046,  0.00293326,  0.09529286, -0.06987774,  0.03921208]])"
      ]
     },
     "execution_count": 52,
     "metadata": {},
     "output_type": "execute_result"
    }
   ],
   "source": [
    "rdd = fw.broadcast(rdd, u, v)\n",
    "rdd.first()['D']"
   ]
  },
  {
   "cell_type": "code",
   "execution_count": 53,
   "metadata": {
    "collapsed": false
   },
   "outputs": [
    {
     "data": {
      "text/plain": [
       "array([[-0.43717303,  0.01898069,  0.616625  , -0.45216781,  0.25373514],\n",
       "       [-0.08769882,  0.00380761,  0.12369767, -0.09070684,  0.05090038],\n",
       "       [-0.15492276,  0.00672626,  0.21851587, -0.16023652,  0.08991714],\n",
       "       [ 0.06756046, -0.00293326, -0.09529286,  0.06987774, -0.03921208]])"
      ]
     },
     "execution_count": 53,
     "metadata": {},
     "output_type": "execute_result"
    }
   ],
   "source": [
    "np.outer(-u,v)"
   ]
  },
  {
   "cell_type": "code",
   "execution_count": 54,
   "metadata": {
    "collapsed": false
   },
   "outputs": [
    {
     "data": {
      "text/plain": [
       "25.751006598945601"
      ]
     },
     "execution_count": 54,
     "metadata": {},
     "output_type": "execute_result"
    }
   ],
   "source": [
    "fw.loss(rdd, MD)"
   ]
  },
  {
   "cell_type": "code",
   "execution_count": 55,
   "metadata": {
    "collapsed": false
   },
   "outputs": [
    {
     "data": {
      "text/plain": [
       "1.0"
      ]
     },
     "execution_count": 55,
     "metadata": {},
     "output_type": "execute_result"
    }
   ],
   "source": [
    "rdd, _ = fw.naivestep(rdd)\n",
    "rdd.first()['a']"
   ]
  },
  {
   "cell_type": "code",
   "execution_count": 56,
   "metadata": {
    "collapsed": false
   },
   "outputs": [
    {
     "data": {
      "text/plain": [
       "array([[ 0.43717303, -0.01898069, -0.616625  ,  0.45216781, -0.25373514],\n",
       "       [ 0.08769882, -0.00380761, -0.12369767,  0.09070684, -0.05090038],\n",
       "       [ 0.15492276, -0.00672626, -0.21851587,  0.16023652, -0.08991714],\n",
       "       [-0.06756046,  0.00293326,  0.09529286, -0.06987774,  0.03921208]])"
      ]
     },
     "execution_count": 56,
     "metadata": {},
     "output_type": "execute_result"
    }
   ],
   "source": [
    "rdd = fw.descent(rdd)\n",
    "rdd.first()['W']"
   ]
  },
  {
   "cell_type": "code",
   "execution_count": 57,
   "metadata": {
    "collapsed": false
   },
   "outputs": [
    {
     "data": {
      "text/plain": [
       "18.099751803048473"
      ]
     },
     "execution_count": 57,
     "metadata": {},
     "output_type": "execute_result"
    }
   ],
   "source": [
    "fw.loss(rdd, MD)"
   ]
  },
  {
   "cell_type": "code",
   "execution_count": 58,
   "metadata": {
    "collapsed": false
   },
   "outputs": [
    {
     "data": {
      "text/plain": [
       "array([[ 0.,  0.,  0.,  0.,  0.],\n",
       "       [ 0.,  0.,  0.,  0.,  0.],\n",
       "       [ 0.,  0.,  0.,  0.,  0.],\n",
       "       [ 0.,  0.,  0.,  0.,  0.]])"
      ]
     },
     "execution_count": 58,
     "metadata": {},
     "output_type": "execute_result"
    }
   ],
   "source": [
    "rdd = fw.ascent(rdd)\n",
    "rdd.first()['W']"
   ]
  },
  {
   "cell_type": "code",
   "execution_count": 59,
   "metadata": {
    "collapsed": false
   },
   "outputs": [
    {
     "data": {
      "text/plain": [
       "25.751006598945601"
      ]
     },
     "execution_count": 59,
     "metadata": {},
     "output_type": "execute_result"
    }
   ],
   "source": [
    "fw.loss(rdd, MD)"
   ]
  },
  {
   "cell_type": "markdown",
   "metadata": {},
   "source": [
    "## Main function"
   ]
  },
  {
   "cell_type": "code",
   "execution_count": 60,
   "metadata": {
    "collapsed": false
   },
   "outputs": [
    {
     "data": {
      "text/plain": [
       "(PythonRDD[72] at RDD at PythonRDD.scala:43,\n",
       " (array([-0.91681196, -0.18391648, -0.32489432,  0.14168357]),\n",
       "  array([-0.47684045,  0.02070293,  0.67257522, -0.4931958 ,  0.27675811])),\n",
       " None,\n",
       " 18.099751803138894,\n",
       " 7)"
      ]
     },
     "execution_count": 60,
     "metadata": {},
     "output_type": "execute_result"
    }
   ],
   "source": [
    "np.random.seed(0)\n",
    "rdd = dataRDD.map(fw.row_param)\n",
    "fw.iterate(rdd, MD, fw.centralize, fw.naivestep, 1, 0)"
   ]
  },
  {
   "cell_type": "code",
   "execution_count": 61,
   "metadata": {
    "collapsed": false
   },
   "outputs": [
    {
     "data": {
      "text/plain": [
       "(PythonRDD[78] at RDD at PythonRDD.scala:43,\n",
       " (array([-0.86436731, -0.20735123, -0.38699054, -0.2451794 ]),\n",
       "  array([-0.49994715,  0.03486907,  0.44024045, -0.5142295 ,  0.53906713])),\n",
       " None,\n",
       " 19.027685183201619,\n",
       " 9)"
      ]
     },
     "execution_count": 61,
     "metadata": {},
     "output_type": "execute_result"
    }
   ],
   "source": [
    "np.random.seed(0)\n",
    "rdd = dataRDD.map(fw.row_param)\n",
    "fw.iterate(rdd, MD, fw.avgmix, fw.naivestep, 1, 0)"
   ]
  },
  {
   "cell_type": "code",
   "execution_count": 62,
   "metadata": {
    "collapsed": false
   },
   "outputs": [
    {
     "data": {
      "text/plain": [
       "(PythonRDD[86] at RDD at PythonRDD.scala:43,\n",
       " (array([-0.91162895, -0.26262519, -0.31485919,  0.02871159]),\n",
       "  array([-0.44092348,  0.02460662,  0.64077952, -0.54187703,  0.31741437])),\n",
       " None,\n",
       " 18.201043907471231,\n",
       " 8)"
      ]
     },
     "execution_count": 62,
     "metadata": {},
     "output_type": "execute_result"
    }
   ],
   "source": [
    "np.random.seed(0)\n",
    "rdd = dataRDD.map(fw.row_param)\n",
    "fw.iterate(rdd, MD, lambda x,t: fw.poweriter(x,lambda t: 1), fw.naivestep, 1, 0)"
   ]
  },
  {
   "cell_type": "code",
   "execution_count": 63,
   "metadata": {
    "collapsed": false
   },
   "outputs": [
    {
     "data": {
      "text/plain": [
       "(PythonRDD[112] at RDD at PythonRDD.scala:43,\n",
       " (array([-0.91681161, -0.18392373, -0.32489397,  0.14167726]),\n",
       "  array([-0.47683778,  0.02070286,  0.67257329, -0.49319938,  0.27676101])),\n",
       " None,\n",
       " 18.099755666207873,\n",
       " 7)"
      ]
     },
     "execution_count": 63,
     "metadata": {},
     "output_type": "execute_result"
    }
   ],
   "source": [
    "np.random.seed(0)\n",
    "rdd = dataRDD.map(fw.row_param)\n",
    "fw.iterate(rdd, MD, lambda x,t: fw.poweriter(x,lambda t: 10), fw.naivestep, 1, 0)"
   ]
  },
  {
   "cell_type": "code",
   "execution_count": 64,
   "metadata": {
    "collapsed": false
   },
   "outputs": [
    {
     "data": {
      "text/plain": [
       "(PythonRDD[120] at RDD at PythonRDD.scala:43,\n",
       " (array([-0.91163117, -0.26261564, -0.31485988,  0.02872097]),\n",
       "  array([-0.44092755,  0.02460666,  0.64078273, -0.54187225,  0.31741041])),\n",
       " None,\n",
       " 18.201031480768425,\n",
       " 8)"
      ]
     },
     "execution_count": 64,
     "metadata": {},
     "output_type": "execute_result"
    }
   ],
   "source": [
    "np.random.seed(0)\n",
    "rdd = dataRDD.map(fw.row_param)\n",
    "fw.iterate(rdd, MD, lambda x,t: fw.poweriter(x,fw.loground), fw.naivestep, 1, 0)"
   ]
  },
  {
   "cell_type": "code",
   "execution_count": 65,
   "metadata": {
    "collapsed": false
   },
   "outputs": [
    {
     "data": {
      "text/plain": [
       "(PythonRDD[127] at RDD at PythonRDD.scala:43,\n",
       " (array([ 0.93695611,  0.04651203,  0.34566378, -0.0215969 ]),\n",
       "  array([ 0.50042843, -0.04885705, -0.66216079,  0.48381387, -0.27322445])),\n",
       " None,\n",
       " 18.259712499964124,\n",
       " 8)"
      ]
     },
     "execution_count": 65,
     "metadata": {},
     "output_type": "execute_result"
    }
   ],
   "source": [
    "np.random.seed(0)\n",
    "v0 = np.random.randn(m)\n",
    "np.random.seed(0)\n",
    "rdd = dataRDD.map(fw.row_param)\n",
    "fw.iterate(rdd, MD, lambda x,t: fw.poweriter(x,fw.loground,v0), fw.naivestep, 1, 0)"
   ]
  },
  {
   "cell_type": "code",
   "execution_count": null,
   "metadata": {
    "collapsed": true
   },
   "outputs": [],
   "source": []
  }
 ],
 "metadata": {
  "kernelspec": {
   "display_name": "Python 3",
   "language": "python",
   "name": "python3"
  },
  "language_info": {
   "codemirror_mode": {
    "name": "ipython",
    "version": 3
   },
   "file_extension": ".py",
   "mimetype": "text/x-python",
   "name": "python",
   "nbconvert_exporter": "python",
   "pygments_lexer": "ipython3",
   "version": "3.5.1"
  }
 },
 "nbformat": 4,
 "nbformat_minor": 0
}

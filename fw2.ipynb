{
 "cells": [
  {
   "cell_type": "code",
   "execution_count": 2,
   "metadata": {
    "collapsed": false
   },
   "outputs": [],
   "source": [
    "from imp import reload\n",
    "import utils as ul\n",
    "import mlr as pb\n",
    "import fw\n",
    "import numpy as np\n",
    "#reload(pb)"
   ]
  },
  {
   "cell_type": "markdown",
   "metadata": {},
   "source": [
    "## Data generation"
   ]
  },
  {
   "cell_type": "code",
   "execution_count": 3,
   "metadata": {
    "collapsed": false
   },
   "outputs": [],
   "source": [
    "## X: n*p  W: p*m  Y: n*m\n",
    "np.random.seed(0)\n",
    "n = 16; m = 5; p = 4\n",
    "X, y, W = pb.generate(n = 16)"
   ]
  },
  {
   "cell_type": "code",
   "execution_count": 4,
   "metadata": {
    "collapsed": false
   },
   "outputs": [
    {
     "data": {
      "text/plain": [
       "array([3, 0, 2, 3, 0, 2, 0, 3, 4, 3, 2, 2, 2, 4, 1, 4])"
      ]
     },
     "execution_count": 4,
     "metadata": {},
     "output_type": "execute_result"
    }
   ],
   "source": [
    "y"
   ]
  },
  {
   "cell_type": "code",
   "execution_count": 5,
   "metadata": {
    "collapsed": false
   },
   "outputs": [
    {
     "data": {
      "text/plain": [
       "0.9375"
      ]
     },
     "execution_count": 5,
     "metadata": {},
     "output_type": "execute_result"
    }
   ],
   "source": [
    "from sklearn.linear_model import LogisticRegression\n",
    "model = LogisticRegression(multi_class='multinomial', solver='lbfgs')\n",
    "model.fit(X,y).score(X,y)"
   ]
  },
  {
   "cell_type": "code",
   "execution_count": 6,
   "metadata": {
    "collapsed": false
   },
   "outputs": [],
   "source": [
    "points = ul.mat2point(X,y)\n",
    "dataRDD = sc.parallelize(points).mapPartitions(ul.point2mat)"
   ]
  },
  {
   "cell_type": "code",
   "execution_count": 8,
   "metadata": {
    "collapsed": false,
    "scrolled": true
   },
   "outputs": [
    {
     "data": {
      "text/plain": [
       "[array([[ 1.76405235,  0.40015721,  0.97873798,  2.2408932 ],\n",
       "        [ 1.86755799, -0.97727788,  0.95008842, -0.15135721]]), array([[3],\n",
       "        [0]])]"
      ]
     },
     "execution_count": 8,
     "metadata": {},
     "output_type": "execute_result"
    }
   ],
   "source": [
    "dataRDD.first()"
   ]
  },
  {
   "cell_type": "code",
   "execution_count": 9,
   "metadata": {
    "collapsed": true
   },
   "outputs": [],
   "source": [
    "dataRDD = dataRDD.map(lambda s: (s[0], np.reshape(s[1],len(s[1])), m))"
   ]
  },
  {
   "cell_type": "code",
   "execution_count": 10,
   "metadata": {
    "collapsed": false
   },
   "outputs": [
    {
     "data": {
      "text/plain": [
       "(array([[ 1.76405235,  0.40015721,  0.97873798,  2.2408932 ],\n",
       "        [ 1.86755799, -0.97727788,  0.95008842, -0.15135721]]),\n",
       " array([3, 0]),\n",
       " 5)"
      ]
     },
     "execution_count": 10,
     "metadata": {},
     "output_type": "execute_result"
    }
   ],
   "source": [
    "dataRDD.first()"
   ]
  },
  {
   "cell_type": "code",
   "execution_count": 11,
   "metadata": {
    "collapsed": false
   },
   "outputs": [
    {
     "data": {
      "text/plain": [
       "PythonRDD[4] at RDD at PythonRDD.scala:43"
      ]
     },
     "execution_count": 11,
     "metadata": {},
     "output_type": "execute_result"
    }
   ],
   "source": [
    "hashedDataRDD = dataRDD.map(ul.hashkey)\n",
    "hashedDataRDD"
   ]
  },
  {
   "cell_type": "code",
   "execution_count": 12,
   "metadata": {
    "collapsed": false
   },
   "outputs": [
    {
     "data": {
      "text/plain": [
       "(2364037124536233116,\n",
       " (array([[ 1.76405235,  0.40015721,  0.97873798,  2.2408932 ],\n",
       "         [ 1.86755799, -0.97727788,  0.95008842, -0.15135721]]),\n",
       "  array([3, 0]),\n",
       "  5))"
      ]
     },
     "execution_count": 12,
     "metadata": {},
     "output_type": "execute_result"
    }
   ],
   "source": [
    "hashedDataRDD.first()"
   ]
  },
  {
   "cell_type": "code",
   "execution_count": 13,
   "metadata": {
    "collapsed": false,
    "scrolled": true
   },
   "outputs": [
    {
     "data": {
      "text/plain": [
       "PythonRDD[6] at RDD at PythonRDD.scala:43"
      ]
     },
     "execution_count": 13,
     "metadata": {},
     "output_type": "execute_result"
    }
   ],
   "source": [
    "modelRDD = hashedDataRDD.mapValues(pb.Model).persist()\n",
    "modelRDD"
   ]
  },
  {
   "cell_type": "code",
   "execution_count": 14,
   "metadata": {
    "collapsed": false
   },
   "outputs": [
    {
     "data": {
      "text/plain": [
       "[(2364037124536233116, <mlr.Model at 0x7feeda054a90>),\n",
       " (-598135049527906511, <mlr.Model at 0x7feeda054c50>),\n",
       " (5383232059404804407, <mlr.Model at 0x7feeda054b00>),\n",
       " (786678581264638161, <mlr.Model at 0x7feeda0540b8>),\n",
       " (-4789202252097188837, <mlr.Model at 0x7feeda054160>),\n",
       " (6020462086823944251, <mlr.Model at 0x7feeda054be0>),\n",
       " (-7092696113887687326, <mlr.Model at 0x7feeda054a58>),\n",
       " (-271061975423292267, <mlr.Model at 0x7feeda054c18>)]"
      ]
     },
     "execution_count": 14,
     "metadata": {},
     "output_type": "execute_result"
    }
   ],
   "source": [
    "modelRDD.collect()"
   ]
  },
  {
   "cell_type": "markdown",
   "metadata": {},
   "source": [
    "## Initialization"
   ]
  },
  {
   "cell_type": "code",
   "execution_count": 15,
   "metadata": {
    "collapsed": false
   },
   "outputs": [
    {
     "data": {
      "text/plain": [
       "PythonRDD[7] at RDD at PythonRDD.scala:43"
      ]
     },
     "execution_count": 15,
     "metadata": {},
     "output_type": "execute_result"
    }
   ],
   "source": [
    "np.random.seed(0)\n",
    "\n",
    "T = 30               # number of iterations of FW\n",
    "U = np.zeros((T,p))  # left singular vector\n",
    "V = np.zeros((T,m))  # right singular vector\n",
    "\n",
    "loss = np.zeros(T)\n",
    "\n",
    "paramRDD = modelRDD.mapValues(lambda x: pb.Param((x.p, x.m)))\n",
    "paramRDD"
   ]
  },
  {
   "cell_type": "code",
   "execution_count": 16,
   "metadata": {
    "collapsed": false,
    "scrolled": true
   },
   "outputs": [
    {
     "data": {
      "text/plain": [
       "[(2364037124536233116, <mlr.Param at 0x7feeda054630>),\n",
       " (-598135049527906511, <mlr.Param at 0x7feeda0549b0>),\n",
       " (5383232059404804407, <mlr.Param at 0x7feeda0544e0>),\n",
       " (786678581264638161, <mlr.Param at 0x7feeda054b70>),\n",
       " (-4789202252097188837, <mlr.Param at 0x7feeda054ba8>),\n",
       " (6020462086823944251, <mlr.Param at 0x7feeda054978>),\n",
       " (-7092696113887687326, <mlr.Param at 0x7feeda0543c8>),\n",
       " (-271061975423292267, <mlr.Param at 0x7feeda054748>)]"
      ]
     },
     "execution_count": 16,
     "metadata": {},
     "output_type": "execute_result"
    }
   ],
   "source": [
    "paramRDD.collect()"
   ]
  },
  {
   "cell_type": "code",
   "execution_count": 17,
   "metadata": {
    "collapsed": false,
    "scrolled": true
   },
   "outputs": [
    {
     "data": {
      "text/plain": [
       "array([[ 0.,  0.,  0.,  0.,  0.],\n",
       "       [ 0.,  0.,  0.,  0.,  0.],\n",
       "       [ 0.,  0.,  0.,  0.,  0.],\n",
       "       [ 0.,  0.,  0.,  0.,  0.]])"
      ]
     },
     "execution_count": 17,
     "metadata": {},
     "output_type": "execute_result"
    }
   ],
   "source": [
    "paramRDD.first()[1].W"
   ]
  },
  {
   "cell_type": "markdown",
   "metadata": {
    "collapsed": true
   },
   "source": [
    "## Subfunctions"
   ]
  },
  {
   "cell_type": "code",
   "execution_count": 18,
   "metadata": {
    "collapsed": false
   },
   "outputs": [
    {
     "data": {
      "text/plain": [
       "PythonRDD[16] at RDD at PythonRDD.scala:43"
      ]
     },
     "execution_count": 18,
     "metadata": {},
     "output_type": "execute_result"
    }
   ],
   "source": [
    "gradRDD = fw.gradient(paramRDD, modelRDD)\n",
    "gradRDD"
   ]
  },
  {
   "cell_type": "code",
   "execution_count": 19,
   "metadata": {
    "collapsed": false
   },
   "outputs": [
    {
     "data": {
      "text/plain": [
       "(-598135049527906511,\n",
       " array([[ 0.13156377,  0.13156377,  0.23478263, -0.62947395,  0.13156377],\n",
       "        [ 0.1064547 ,  0.1064547 , -0.3041438 , -0.01522031,  0.1064547 ],\n",
       "        [ 0.11758136,  0.11758136, -0.02646221, -0.32628187,  0.11758136],\n",
       "        [ 0.35758957,  0.35758957, -1.09668394,  0.02391524,  0.35758957]]))"
      ]
     },
     "execution_count": 19,
     "metadata": {},
     "output_type": "execute_result"
    }
   ],
   "source": [
    "gradRDD.first()"
   ]
  },
  {
   "cell_type": "code",
   "execution_count": 20,
   "metadata": {
    "collapsed": false
   },
   "outputs": [
    {
     "data": {
      "text/plain": [
       "array([[-5.01405051,  0.55082395,  6.44565284, -4.67081879,  2.68839251],\n",
       "       [ 1.90313056, -1.03614316,  0.27294416, -3.92724211,  2.78731055],\n",
       "       [-1.74301036,  0.20022637,  2.41195662, -1.62431755,  0.75514493],\n",
       "       [ 1.94878166,  1.11888603, -3.07113187, -1.89428243,  1.89774662]])"
      ]
     },
     "execution_count": 20,
     "metadata": {},
     "output_type": "execute_result"
    }
   ],
   "source": [
    "gradRDD.values().reduce(fw.add)"
   ]
  },
  {
   "cell_type": "code",
   "execution_count": 21,
   "metadata": {
    "collapsed": false
   },
   "outputs": [
    {
     "data": {
      "text/plain": [
       "(array([ 1.        ,  0.20060436,  0.354374  , -0.1545394 ]),\n",
       " array([-0.70897714,  0.03078158,  1.        , -0.73329464,  0.41149019]))"
      ]
     },
     "execution_count": 21,
     "metadata": {},
     "output_type": "execute_result"
    }
   ],
   "source": [
    "fw.centralize(gradRDD, 1)"
   ]
  },
  {
   "cell_type": "code",
   "execution_count": 22,
   "metadata": {
    "collapsed": false
   },
   "outputs": [
    {
     "data": {
      "text/plain": [
       "(-598135049527906511,\n",
       " (array([-0.0935916 ,  0.28154771,  0.08720898,  1.        ]),\n",
       "  array([ 0.31949585,  0.31949585, -1.        ,  0.04151244,  0.31949585])))"
      ]
     },
     "execution_count": 22,
     "metadata": {},
     "output_type": "execute_result"
    }
   ],
   "source": [
    "fw.warmstart(gradRDD).first()"
   ]
  },
  {
   "cell_type": "code",
   "execution_count": 23,
   "metadata": {
    "collapsed": false,
    "scrolled": true
   },
   "outputs": [
    {
     "data": {
      "text/plain": [
       "[(array([-0.0935916 ,  0.28154771,  0.08720898,  1.        ]),\n",
       "  array([ 0.31949585,  0.31949585, -1.        ,  0.04151244,  0.31949585])),\n",
       " (array([ 1.        , -0.90532406,  0.00677307, -0.13692165]),\n",
       "  array([-1.        ,  0.26327177,  0.26327177,  0.21018469,  0.26327177])),\n",
       " (array([ 0.39181225,  0.21241041,  0.46597718,  1.        ]),\n",
       "  array([-0.32707349, -0.01877953, -0.32707349, -0.32707349,  1.        ])),\n",
       " (array([ 1.        , -0.22277663, -0.18509004,  0.04919791]),\n",
       "  array([-0.66468565, -0.11177145,  1.        , -0.11177145, -0.11177145])),\n",
       " (array([ 0.64676459,  1.        ,  0.00374751, -0.13849697]),\n",
       "  array([-0.0436782 , -0.0436782 , -0.0436782 , -0.86896541,  1.        ])),\n",
       " (array([ 1.        ,  0.06239272,  0.54471948,  0.97406005]),\n",
       "  array([-0.26521571,  0.42173857,  0.42173857, -1.        ,  0.42173857])),\n",
       " (array([ 0.5265869 ,  0.6279321 ,  1.        , -0.92200247]),\n",
       "  array([-0.25, -0.25,  1.  , -0.25, -0.25])),\n",
       " (array([ 1.        ,  0.25609078,  0.52635609, -0.27387539]),\n",
       "  array([-0.39701533, -0.39701533,  1.        , -0.39701533,  0.191046  ]))]"
      ]
     },
     "execution_count": 23,
     "metadata": {},
     "output_type": "execute_result"
    }
   ],
   "source": [
    "fw.warmstart(gradRDD).values().collect()"
   ]
  },
  {
   "cell_type": "code",
   "execution_count": 24,
   "metadata": {
    "collapsed": false
   },
   "outputs": [
    {
     "data": {
      "text/plain": [
       "(array([ 5.47157214,  1.31227294,  2.44969226,  1.5519613 ]),\n",
       " array([-2.62817261,  0.18326171,  2.31425868, -2.70312856,  2.83378077]))"
      ]
     },
     "execution_count": 24,
     "metadata": {},
     "output_type": "execute_result"
    }
   ],
   "source": [
    "fw.avgmix(gradRDD, 1)"
   ]
  },
  {
   "cell_type": "code",
   "execution_count": 25,
   "metadata": {
    "collapsed": false
   },
   "outputs": [
    {
     "data": {
      "text/plain": [
       "[array([ 0.31949585,  0.31949585, -1.        ,  0.04151244,  0.31949585]),\n",
       " array([-1.        ,  0.26246877,  0.26246877,  0.21259368,  0.26246877]),\n",
       " array([-0.32707349, -0.01877953, -0.32707349, -0.32707349,  1.        ]),\n",
       " array([-0.66468565, -0.11177145,  1.        , -0.11177145, -0.11177145]),\n",
       " array([-0.0436782 , -0.0436782 , -0.0436782 , -0.86896541,  1.        ]),\n",
       " array([-0.2652158,  0.4217386,  0.4217386, -1.       ,  0.4217386]),\n",
       " array([-0.25, -0.25,  1.  , -0.25, -0.25]),\n",
       " array([-0.39701532, -0.39701532,  1.        , -0.39701532,  0.19104597])]"
      ]
     },
     "execution_count": 25,
     "metadata": {},
     "output_type": "execute_result"
    }
   ],
   "source": [
    "fw.warmstart(gradRDD).map(lambda x: x[1][1]).collect()"
   ]
  },
  {
   "cell_type": "code",
   "execution_count": 26,
   "metadata": {
    "collapsed": false
   },
   "outputs": [
    {
     "data": {
      "text/plain": [
       "array([-2.62817257,  0.18245876,  2.31345569, -2.70071954,  2.83297767])"
      ]
     },
     "execution_count": 26,
     "metadata": {},
     "output_type": "execute_result"
    }
   ],
   "source": [
    "fw.warmstart(gradRDD).map(lambda x: x[1][1]).reduce(lambda x,y: x+y)"
   ]
  },
  {
   "cell_type": "code",
   "execution_count": 28,
   "metadata": {
    "collapsed": false
   },
   "outputs": [
    {
     "data": {
      "text/plain": [
       "(array([ 0.91681161,  0.18392373,  0.32489397, -0.14167726]),\n",
       " array([-0.47683779,  0.02070286,  0.67257329, -0.49319938,  0.27676101]))"
      ]
     },
     "execution_count": 28,
     "metadata": {},
     "output_type": "execute_result"
    }
   ],
   "source": [
    "fw.poweriter(gradRDD, 0, lambda t: 10)"
   ]
  },
  {
   "cell_type": "code",
   "execution_count": 29,
   "metadata": {
    "collapsed": false,
    "scrolled": true
   },
   "outputs": [
    {
     "data": {
      "text/plain": [
       "array([1, 1, 1, 1, 1, 1, 1, 1, 1, 1, 2, 2, 2, 2, 2, 2, 2, 2, 2, 2, 2, 2, 2,\n",
       "       2, 2, 2, 2, 2, 2, 2, 2, 2, 2, 2, 2, 2, 2, 2, 2, 2, 2, 2, 2, 2, 2, 2,\n",
       "       2, 2, 2, 2, 2, 2, 2, 2, 2, 2, 2, 2, 2, 2, 2, 2, 2, 2, 2, 2, 2, 2, 2,\n",
       "       2, 2, 2, 2, 2, 2, 2, 2, 2, 2, 2, 2, 2, 2, 2, 2, 2, 2, 2, 2, 2, 2, 2,\n",
       "       2, 2, 2, 2, 2, 2, 2, 2, 3])"
      ]
     },
     "execution_count": 29,
     "metadata": {},
     "output_type": "execute_result"
    }
   ],
   "source": [
    "np.array([fw.loground(i) for i in range(101)])"
   ]
  },
  {
   "cell_type": "code",
   "execution_count": 30,
   "metadata": {
    "collapsed": false
   },
   "outputs": [
    {
     "data": {
      "text/plain": [
       "(array([ 1.        ,  0.20060436,  0.354374  , -0.15453941]),\n",
       " array([-0.70897714,  0.03078158,  1.        , -0.73329464,  0.41149019]))"
      ]
     },
     "execution_count": 30,
     "metadata": {},
     "output_type": "execute_result"
    }
   ],
   "source": [
    "u, v = fw.centralize(gradRDD)\n",
    "u, v"
   ]
  },
  {
   "cell_type": "code",
   "execution_count": 31,
   "metadata": {
    "collapsed": false
   },
   "outputs": [
    {
     "data": {
      "text/plain": [
       "(array([-0.91681196, -0.18391648, -0.32489432,  0.14168358]),\n",
       " array([-0.47684045,  0.02070293,  0.67257522, -0.4931958 ,  0.27675811]))"
      ]
     },
     "execution_count": 31,
     "metadata": {},
     "output_type": "execute_result"
    }
   ],
   "source": [
    "u, v = fw.regularize(u, v, 1)\n",
    "u, v"
   ]
  },
  {
   "cell_type": "code",
   "execution_count": 32,
   "metadata": {
    "collapsed": false
   },
   "outputs": [
    {
     "data": {
      "text/plain": [
       "array([[ 0.43717303, -0.01898069, -0.616625  ,  0.45216781, -0.25373514],\n",
       "       [ 0.08769882, -0.00380761, -0.12369767,  0.09070684, -0.05090038],\n",
       "       [ 0.15492276, -0.00672626, -0.21851587,  0.16023652, -0.08991714],\n",
       "       [-0.06756046,  0.00293326,  0.09529286, -0.06987774,  0.03921208]])"
      ]
     },
     "execution_count": 32,
     "metadata": {},
     "output_type": "execute_result"
    }
   ],
   "source": [
    "paramRDD = fw.broadcast(paramRDD, u, v)\n",
    "paramRDD.values().first().D"
   ]
  },
  {
   "cell_type": "code",
   "execution_count": 33,
   "metadata": {
    "collapsed": false
   },
   "outputs": [
    {
     "data": {
      "text/plain": [
       "array([[-0.43717303,  0.01898069,  0.616625  , -0.45216781,  0.25373514],\n",
       "       [-0.08769882,  0.00380761,  0.12369767, -0.09070684,  0.05090038],\n",
       "       [-0.15492276,  0.00672626,  0.21851587, -0.16023652,  0.08991714],\n",
       "       [ 0.06756046, -0.00293326, -0.09529286,  0.06987774, -0.03921208]])"
      ]
     },
     "execution_count": 33,
     "metadata": {},
     "output_type": "execute_result"
    }
   ],
   "source": [
    "np.outer(-u,v)"
   ]
  },
  {
   "cell_type": "code",
   "execution_count": 34,
   "metadata": {
    "collapsed": false
   },
   "outputs": [
    {
     "data": {
      "text/plain": [
       "25.751006598945605"
      ]
     },
     "execution_count": 34,
     "metadata": {},
     "output_type": "execute_result"
    }
   ],
   "source": [
    "fw.loss(paramRDD, modelRDD)"
   ]
  },
  {
   "cell_type": "code",
   "execution_count": 35,
   "metadata": {
    "collapsed": false
   },
   "outputs": [
    {
     "data": {
      "text/plain": [
       "2"
      ]
     },
     "execution_count": 35,
     "metadata": {},
     "output_type": "execute_result"
    }
   ],
   "source": [
    "foo = modelRDD.join(paramRDD).values().first()\n",
    "foo[0].miss(foo[1].W)"
   ]
  },
  {
   "cell_type": "code",
   "execution_count": 36,
   "metadata": {
    "collapsed": false
   },
   "outputs": [
    {
     "data": {
      "text/plain": [
       "13"
      ]
     },
     "execution_count": 36,
     "metadata": {},
     "output_type": "execute_result"
    }
   ],
   "source": [
    "fw.miss(paramRDD, modelRDD)"
   ]
  },
  {
   "cell_type": "code",
   "execution_count": 37,
   "metadata": {
    "collapsed": false
   },
   "outputs": [
    {
     "data": {
      "text/plain": [
       "1.0"
      ]
     },
     "execution_count": 37,
     "metadata": {},
     "output_type": "execute_result"
    }
   ],
   "source": [
    "paramRDD, _ = fw.naivestep(paramRDD)\n",
    "paramRDD.values().first().a"
   ]
  },
  {
   "cell_type": "code",
   "execution_count": 38,
   "metadata": {
    "collapsed": false
   },
   "outputs": [
    {
     "data": {
      "text/plain": [
       "array([[ 0.43717303, -0.01898069, -0.616625  ,  0.45216781, -0.25373514],\n",
       "       [ 0.08769882, -0.00380761, -0.12369767,  0.09070684, -0.05090038],\n",
       "       [ 0.15492276, -0.00672626, -0.21851587,  0.16023652, -0.08991714],\n",
       "       [-0.06756046,  0.00293326,  0.09529286, -0.06987774,  0.03921208]])"
      ]
     },
     "execution_count": 38,
     "metadata": {},
     "output_type": "execute_result"
    }
   ],
   "source": [
    "paramRDD = fw.descent(paramRDD)\n",
    "paramRDD.values().first().W"
   ]
  },
  {
   "cell_type": "code",
   "execution_count": 39,
   "metadata": {
    "collapsed": false
   },
   "outputs": [
    {
     "data": {
      "text/plain": [
       "18.099751803048477"
      ]
     },
     "execution_count": 39,
     "metadata": {},
     "output_type": "execute_result"
    }
   ],
   "source": [
    "fw.loss(paramRDD, modelRDD)"
   ]
  },
  {
   "cell_type": "code",
   "execution_count": 40,
   "metadata": {
    "collapsed": false
   },
   "outputs": [
    {
     "data": {
      "text/plain": [
       "7"
      ]
     },
     "execution_count": 40,
     "metadata": {},
     "output_type": "execute_result"
    }
   ],
   "source": [
    "fw.miss(paramRDD, modelRDD)"
   ]
  },
  {
   "cell_type": "code",
   "execution_count": 41,
   "metadata": {
    "collapsed": false
   },
   "outputs": [
    {
     "data": {
      "text/plain": [
       "array([[ 0.,  0.,  0.,  0.,  0.],\n",
       "       [ 0.,  0.,  0.,  0.,  0.],\n",
       "       [ 0.,  0.,  0.,  0.,  0.],\n",
       "       [ 0.,  0.,  0.,  0.,  0.]])"
      ]
     },
     "execution_count": 41,
     "metadata": {},
     "output_type": "execute_result"
    }
   ],
   "source": [
    "paramRDD = fw.ascent(paramRDD)\n",
    "paramRDD.values().first().W"
   ]
  },
  {
   "cell_type": "code",
   "execution_count": 42,
   "metadata": {
    "collapsed": false
   },
   "outputs": [
    {
     "data": {
      "text/plain": [
       "25.751006598945605"
      ]
     },
     "execution_count": 42,
     "metadata": {},
     "output_type": "execute_result"
    }
   ],
   "source": [
    "fw.loss(paramRDD, modelRDD)"
   ]
  },
  {
   "cell_type": "markdown",
   "metadata": {},
   "source": [
    "## Main function"
   ]
  },
  {
   "cell_type": "code",
   "execution_count": 43,
   "metadata": {
    "collapsed": false
   },
   "outputs": [
    {
     "data": {
      "text/plain": [
       "(PythonRDD[353] at RDD at PythonRDD.scala:43,\n",
       " (array([-0.91681196, -0.18391648, -0.32489432,  0.14168357]),\n",
       "  array([-0.47684045,  0.02070293,  0.67257522, -0.4931958 ,  0.27675811])),\n",
       " None,\n",
       " 18.099751803138894,\n",
       " 7)"
      ]
     },
     "execution_count": 43,
     "metadata": {},
     "output_type": "execute_result"
    }
   ],
   "source": [
    "np.random.seed(0)\n",
    "paramRDD = modelRDD.mapValues(lambda x: pb.Param((x.p, x.m)))\n",
    "fw.iterate(modelRDD, paramRDD, fw.centralize, fw.naivestep, 1, 0)"
   ]
  },
  {
   "cell_type": "code",
   "execution_count": 44,
   "metadata": {
    "collapsed": false
   },
   "outputs": [
    {
     "data": {
      "text/plain": [
       "(PythonRDD[378] at RDD at PythonRDD.scala:43,\n",
       " (array([-0.86438637, -0.20727636, -0.38699506, -0.24516839]),\n",
       "  array([-0.49996465,  0.03485664,  0.44024217, -0.51420645,  0.53907229])),\n",
       " None,\n",
       " 19.027746322078624,\n",
       " 9)"
      ]
     },
     "execution_count": 44,
     "metadata": {},
     "output_type": "execute_result"
    }
   ],
   "source": [
    "np.random.seed(0)\n",
    "paramRDD = modelRDD.mapValues(lambda x: pb.Param((x.p, x.m)))\n",
    "fw.iterate(modelRDD, paramRDD, fw.avgmix, fw.naivestep, 1, 0)"
   ]
  },
  {
   "cell_type": "code",
   "execution_count": 45,
   "metadata": {
    "collapsed": false
   },
   "outputs": [
    {
     "data": {
      "text/plain": [
       "(PythonRDD[405] at RDD at PythonRDD.scala:43,\n",
       " (array([-0.91162982, -0.26262144, -0.31485946,  0.02871527]),\n",
       "  array([-0.44092508,  0.02460663,  0.64078078, -0.54187515,  0.31741282])),\n",
       " None,\n",
       " 18.201039029787516,\n",
       " 8)"
      ]
     },
     "execution_count": 45,
     "metadata": {},
     "output_type": "execute_result"
    }
   ],
   "source": [
    "np.random.seed(0)\n",
    "paramRDD = modelRDD.mapValues(lambda x: pb.Param((x.p, x.m)))\n",
    "fw.iterate(modelRDD, paramRDD, lambda x,t: fw.poweriter(x,t,lambda t: 1), fw.naivestep, 1, 0)"
   ]
  },
  {
   "cell_type": "code",
   "execution_count": 46,
   "metadata": {
    "collapsed": false
   },
   "outputs": [
    {
     "data": {
      "text/plain": [
       "(PythonRDD[470] at RDD at PythonRDD.scala:43,\n",
       " (array([-0.91681196, -0.18391648, -0.32489432,  0.14168357]),\n",
       "  array([-0.47684045,  0.02070293,  0.67257522, -0.4931958 ,  0.27675811])),\n",
       " None,\n",
       " 18.099751803252747,\n",
       " 7)"
      ]
     },
     "execution_count": 46,
     "metadata": {},
     "output_type": "execute_result"
    }
   ],
   "source": [
    "np.random.seed(0)\n",
    "paramRDD = modelRDD.mapValues(lambda x: pb.Param((x.p, x.m)))\n",
    "fw.iterate(modelRDD, paramRDD, lambda x,t: fw.poweriter(x,t,lambda t: 20), fw.naivestep, 1, 0)"
   ]
  },
  {
   "cell_type": "code",
   "execution_count": 47,
   "metadata": {
    "collapsed": false
   },
   "outputs": [
    {
     "data": {
      "text/plain": [
       "(PythonRDD[497] at RDD at PythonRDD.scala:43,\n",
       " (array([-0.91162981, -0.26262151, -0.31485945,  0.02871519]),\n",
       "  array([-0.44092505,  0.02460663,  0.64078076, -0.54187519,  0.31741285])),\n",
       " None,\n",
       " 18.201039131452792,\n",
       " 8)"
      ]
     },
     "execution_count": 47,
     "metadata": {},
     "output_type": "execute_result"
    }
   ],
   "source": [
    "np.random.seed(0)\n",
    "paramRDD = modelRDD.mapValues(lambda x: pb.Param((x.p, x.m)))\n",
    "fw.iterate(modelRDD, paramRDD, lambda x,t: fw.poweriter(x,t,fw.loground), fw.naivestep, 1, 0)"
   ]
  },
  {
   "cell_type": "code",
   "execution_count": 48,
   "metadata": {
    "collapsed": false
   },
   "outputs": [
    {
     "data": {
      "text/plain": [
       "(PythonRDD[523] at RDD at PythonRDD.scala:43,\n",
       " (array([ 0.93695611,  0.04651203,  0.34566378, -0.0215969 ]),\n",
       "  array([ 0.50042843, -0.04885705, -0.66216079,  0.48381387, -0.27322445])),\n",
       " None,\n",
       " 18.259712499964124,\n",
       " 8)"
      ]
     },
     "execution_count": 48,
     "metadata": {},
     "output_type": "execute_result"
    }
   ],
   "source": [
    "np.random.seed(0)\n",
    "v0 = np.random.randn(m)\n",
    "np.random.seed(0)\n",
    "paramRDD = modelRDD.mapValues(lambda x: pb.Param((x.p, x.m)))\n",
    "fw.iterate(modelRDD, paramRDD, lambda x,t: fw.poweriter(x,t,fw.loground,v0), fw.naivestep, 1, 0)"
   ]
  }
 ],
 "metadata": {
  "kernelspec": {
   "display_name": "Python 3",
   "language": "python",
   "name": "python3"
  },
  "language_info": {
   "codemirror_mode": {
    "name": "ipython",
    "version": 3
   },
   "file_extension": ".py",
   "mimetype": "text/x-python",
   "name": "python",
   "nbconvert_exporter": "python",
   "pygments_lexer": "ipython3",
   "version": "3.5.1"
  }
 },
 "nbformat": 4,
 "nbformat_minor": 0
}
